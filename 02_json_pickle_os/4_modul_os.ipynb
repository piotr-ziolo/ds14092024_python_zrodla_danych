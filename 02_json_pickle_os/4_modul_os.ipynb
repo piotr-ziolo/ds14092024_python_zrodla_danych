{
 "cells": [
  {
   "cell_type": "markdown",
   "id": "daa9d2e5-232e-4a7c-98ae-fdbedd25803d",
   "metadata": {},
   "source": [
    "### [os — Miscellaneous operating system interfaces](https://docs.python.org/3/library/os.html)\n",
    "\n",
    "[`os`](https://docs.python.org/3/library/os.html) to moduł pythonowy zawierający \"rozmaitości\" systemu operacyjnego\n",
    "\n",
    "Kod bilbioteki można znaleźć tutaj https://github.com/python/cpython/blob/3.12/Lib/os.py"
   ]
  },
  {
   "cell_type": "markdown",
   "id": "fab8cb20-bc69-4b78-a0f8-8d8a8491e5e9",
   "metadata": {},
   "source": [
    "To co zawiera moduł `os`?"
   ]
  },
  {
   "cell_type": "code",
   "execution_count": 1,
   "id": "4ac0db5c-58f0-4052-9b60-6f3a1910d5ce",
   "metadata": {},
   "outputs": [
    {
     "name": "stdout",
     "output_type": "stream",
     "text": [
      "['DirEntry', 'EX_OK', 'F_OK', 'GenericAlias', 'Mapping', 'MutableMapping', 'O_APPEND', 'O_BINARY', 'O_CREAT', 'O_EXCL', 'O_NOINHERIT', 'O_RANDOM', 'O_RDONLY', 'O_RDWR', 'O_SEQUENTIAL', 'O_SHORT_LIVED', 'O_TEMPORARY', 'O_TEXT', 'O_TRUNC', 'O_WRONLY', 'P_DETACH', 'P_NOWAIT', 'P_NOWAITO', 'P_OVERLAY', 'P_WAIT', 'PathLike', 'R_OK', 'SEEK_CUR', 'SEEK_END', 'SEEK_SET', 'TMP_MAX', 'W_OK', 'X_OK', '_AddedDllDirectory', '_Environ', '__all__', '__builtins__', '__doc__', '__file__', '__loader__', '__name__', '__package__', '__spec__', '_check_methods', '_execvpe', '_exists', '_exit', '_fspath', '_get_exports_list', '_walk', '_wrap_close', 'abc', 'abort', 'access', 'add_dll_directory', 'altsep', 'chdir', 'chmod', 'close', 'closerange', 'cpu_count', 'curdir', 'defpath', 'device_encoding', 'devnull', 'dup', 'dup2', 'environ', 'error', 'execl', 'execle', 'execlp', 'execlpe', 'execv', 'execve', 'execvp', 'execvpe', 'extsep', 'fdopen', 'fsdecode', 'fsencode', 'fspath', 'fstat', 'fsync', 'ftruncate', 'get_exec_path', 'get_handle_inheritable', 'get_inheritable', 'get_terminal_size', 'getcwd', 'getcwdb', 'getenv', 'getlogin', 'getpid', 'getppid', 'isatty', 'kill', 'linesep', 'link', 'listdir', 'lseek', 'lstat', 'makedirs', 'mkdir', 'name', 'open', 'pardir', 'path', 'pathsep', 'pipe', 'popen', 'putenv', 'read', 'readlink', 'remove', 'removedirs', 'rename', 'renames', 'replace', 'rmdir', 'scandir', 'sep', 'set_handle_inheritable', 'set_inheritable', 'spawnl', 'spawnle', 'spawnv', 'spawnve', 'st', 'startfile', 'stat', 'stat_result', 'statvfs_result', 'strerror', 'supports_bytes_environ', 'supports_dir_fd', 'supports_effective_ids', 'supports_fd', 'supports_follow_symlinks', 'symlink', 'sys', 'system', 'terminal_size', 'times', 'times_result', 'truncate', 'umask', 'uname_result', 'unlink', 'unsetenv', 'urandom', 'utime', 'waitpid', 'waitstatus_to_exitcode', 'walk', 'write']\n"
     ]
    }
   ],
   "source": [
    "import os\n",
    "\n",
    "print(dir(os))"
   ]
  },
  {
   "cell_type": "markdown",
   "id": "f9fadb68-2659-4ae0-bfd2-585e67d807eb",
   "metadata": {},
   "source": [
    "Wśród wyświetlonych funkcji do najpopularniejszych należą:"
   ]
  },
  {
   "cell_type": "markdown",
   "id": "1cff6b08-1f3d-4995-bdf6-163a1b5bc684",
   "metadata": {},
   "source": [
    "1. [os.getcwd()](https://docs.python.org/3/library/os.html#os.getcwd) - Zwraca bieżący katalog roboczy jako łańcuch znaków."
   ]
  },
  {
   "cell_type": "code",
   "execution_count": 2,
   "id": "8b89b567-59af-4bfc-9398-f582f860c072",
   "metadata": {},
   "outputs": [
    {
     "name": "stdout",
     "output_type": "stream",
     "text": [
      "c:\\Users\\48146\\OneDrive\\Szkolenia\\Python\\Sages\\4_Data_sources\\02_json_pickle_os\n"
     ]
    }
   ],
   "source": [
    "print(os.getcwd())"
   ]
  },
  {
   "cell_type": "markdown",
   "id": "83b32309-0474-43ed-91e6-75c9ad41d1a3",
   "metadata": {},
   "source": [
    "2. [os.chdir(path)](https://docs.python.org/3/library/os.html#os.chdir) - Zmienia bieżący katalog roboczy na podany ścieżkę."
   ]
  },
  {
   "cell_type": "code",
   "execution_count": 3,
   "id": "d70b5ef7-4b91-46a3-95f7-8c4677e2d1b8",
   "metadata": {},
   "outputs": [
    {
     "name": "stdout",
     "output_type": "stream",
     "text": [
      "c:\\Users\\48146\\OneDrive\\Szkolenia\\Python\\Sages\\4_Data_sources\n"
     ]
    }
   ],
   "source": [
    "os.chdir('..')\n",
    "print(os.getcwd())"
   ]
  },
  {
   "cell_type": "markdown",
   "id": "e30c06d4-4818-44e2-8d71-8e95ac4ae14c",
   "metadata": {},
   "source": [
    "3. [os.listdir(path='.')](https://docs.python.org/3/library/os.html#os.listdir) - Zwraca listę plików i katalogów w podanym katalogu. Domyślnie zwraca zawartość bieżącego katalogu."
   ]
  },
  {
   "cell_type": "code",
   "execution_count": 4,
   "id": "8b80c60b-b929-4632-ad45-b29588b16bd4",
   "metadata": {},
   "outputs": [
    {
     "name": "stdout",
     "output_type": "stream",
     "text": [
      "['.git', '.gitignore', '.idea', '00_files', '01_regex', '02_json_pickle_os', '03_api', '04_webscrapping', '05_sql', 'intro.txt']\n"
     ]
    }
   ],
   "source": [
    "print(os.listdir())"
   ]
  },
  {
   "cell_type": "markdown",
   "id": "cb7cf4d9-f3d3-44ed-bc9a-eadd1f9193b1",
   "metadata": {},
   "source": [
    "4. [os.mkdir(path)](https://docs.python.org/3/library/os.html#os.mkdir) - Tworzy nowy katalog o podanej ścieżce."
   ]
  },
  {
   "cell_type": "code",
   "execution_count": 5,
   "id": "db80bfd0-8654-4680-bcf6-9461323b95a7",
   "metadata": {},
   "outputs": [
    {
     "name": "stdout",
     "output_type": "stream",
     "text": [
      "['.git', '.gitignore', '.idea', '00_files', '01_regex', '02_json_pickle_os', '03_api', '04_webscrapping', '05_sql', 'intro.txt', 'test']\n"
     ]
    }
   ],
   "source": [
    "os.mkdir('test')\n",
    "print(os.listdir())"
   ]
  },
  {
   "cell_type": "markdown",
   "id": "133ca0f2-bc66-4649-a1ce-171b93e81f6b",
   "metadata": {},
   "source": [
    "5. [os.makedirs(path)](https://docs.python.org/3/library/os.html#os.makedirs) - Tworzy nowy katalog i wszystkie brakujące katalogi w podanej ścieżce."
   ]
  },
  {
   "cell_type": "code",
   "execution_count": 6,
   "id": "7be73573-2cd0-42a6-869e-b4cbc0bd6959",
   "metadata": {},
   "outputs": [],
   "source": [
    "os.makedirs('ala/ma/kota')"
   ]
  },
  {
   "cell_type": "markdown",
   "id": "723606c7-90d1-48ae-b05b-6fd29259be77",
   "metadata": {},
   "source": [
    "6. [os.remove(path)](https://docs.python.org/3/library/os.html#os.remove) - Usuwa plik o podanej ścieżce."
   ]
  },
  {
   "cell_type": "code",
   "execution_count": 7,
   "id": "c14a656a-8d28-4658-9292-9958ef5f8ba1",
   "metadata": {},
   "outputs": [
    {
     "ename": "PermissionError",
     "evalue": "[WinError 5] Access is denied: 'ala.'",
     "output_type": "error",
     "traceback": [
      "\u001b[1;31m---------------------------------------------------------------------------\u001b[0m",
      "\u001b[1;31mPermissionError\u001b[0m                           Traceback (most recent call last)",
      "Cell \u001b[1;32mIn[7], line 1\u001b[0m\n\u001b[1;32m----> 1\u001b[0m os\u001b[38;5;241m.\u001b[39mremove(\u001b[38;5;124m'\u001b[39m\u001b[38;5;124mala.\u001b[39m\u001b[38;5;124m'\u001b[39m)\n",
      "\u001b[1;31mPermissionError\u001b[0m: [WinError 5] Access is denied: 'ala.'"
     ]
    }
   ],
   "source": [
    "os.remove('ala.')"
   ]
  },
  {
   "cell_type": "markdown",
   "id": "2dcf099f-f6f3-440f-b1ee-9511e21ae38e",
   "metadata": {},
   "source": [
    "7. [os.rmdir(path)](https://docs.python.org/3/library/os.html#os.rmdir) - Usuwa pusty katalog o podanej ścieżce."
   ]
  },
  {
   "cell_type": "code",
   "execution_count": 8,
   "id": "d0d4286a-686d-4bd6-9890-bf2801343b31",
   "metadata": {},
   "outputs": [],
   "source": [
    "os.rmdir('ala/ma/kota')"
   ]
  },
  {
   "cell_type": "code",
   "execution_count": 9,
   "id": "c6f39d48-54f6-467e-9000-207dd562fedc",
   "metadata": {},
   "outputs": [],
   "source": [
    "os.rmdir('ala/ma')"
   ]
  },
  {
   "cell_type": "code",
   "execution_count": 10,
   "id": "7a2f666b-6ba3-4ae0-91e3-76aa9c37d71f",
   "metadata": {},
   "outputs": [],
   "source": [
    "os.rmdir('ala')"
   ]
  },
  {
   "cell_type": "markdown",
   "id": "d6f3b665-b115-47ce-b473-07f83b8d5056",
   "metadata": {},
   "source": [
    "8. [os.path.join(path, ...)](https://docs.python.org/3/library/os.path.html#os.path.join) - Łączy podane ścieżki w jeden łańcuch znaków, używając odpowiedniego separatora dla danego systemu operacyjnego."
   ]
  },
  {
   "cell_type": "code",
   "execution_count": 11,
   "id": "9bd133cc-a2ba-45a7-848d-4967da854373",
   "metadata": {},
   "outputs": [
    {
     "data": {
      "text/plain": [
       "'02_json\\\\zadania'"
      ]
     },
     "execution_count": 11,
     "metadata": {},
     "output_type": "execute_result"
    }
   ],
   "source": [
    "my_path = os.path.join('02_json', 'zadania')\n",
    "my_path"
   ]
  },
  {
   "cell_type": "markdown",
   "id": "4f120674-5f91-44c2-a1db-135d0acf8d03",
   "metadata": {},
   "source": [
    "9. [os.path.exists(path)](https://docs.python.org/3/library/os.path.html#os.path.exists) - Sprawdza, czy podana ścieżka istnieje."
   ]
  },
  {
   "cell_type": "code",
   "execution_count": 12,
   "id": "5e96a4ec-e343-4142-b63d-29ae8642313b",
   "metadata": {},
   "outputs": [
    {
     "data": {
      "text/plain": [
       "False"
      ]
     },
     "execution_count": 12,
     "metadata": {},
     "output_type": "execute_result"
    }
   ],
   "source": [
    "os.path.exists(my_path)"
   ]
  },
  {
   "cell_type": "code",
   "execution_count": 13,
   "id": "9cb3f4ba-1d12-4397-bf77-d9be92129d9f",
   "metadata": {},
   "outputs": [
    {
     "data": {
      "text/plain": [
       "False"
      ]
     },
     "execution_count": 13,
     "metadata": {},
     "output_type": "execute_result"
    }
   ],
   "source": [
    "os.path.exists(os.path.join('02_json', 'zadania', 'czapka'))"
   ]
  },
  {
   "cell_type": "markdown",
   "id": "c10df8f0-0375-4d44-8a97-8ee02ac12944",
   "metadata": {},
   "source": [
    "10. [os.path.isfile(path)](https://docs.python.org/3/library/os.path.html#os.path.isfile) - Sprawdza, czy podana ścieżka prowadzi do pliku."
   ]
  },
  {
   "cell_type": "code",
   "execution_count": 14,
   "id": "56b39a3a-e5c5-4a52-bca4-f4d0204c10c8",
   "metadata": {},
   "outputs": [
    {
     "data": {
      "text/plain": [
       "False"
      ]
     },
     "execution_count": 14,
     "metadata": {},
     "output_type": "execute_result"
    }
   ],
   "source": [
    "os.path.isfile(my_path)"
   ]
  },
  {
   "cell_type": "code",
   "execution_count": 15,
   "id": "a0288bfa-f164-4c79-abf0-73ce0d8eb420",
   "metadata": {},
   "outputs": [
    {
     "data": {
      "text/plain": [
       "False"
      ]
     },
     "execution_count": 15,
     "metadata": {},
     "output_type": "execute_result"
    }
   ],
   "source": [
    "os.path.isfile(os.path.join(my_path, 'zadanie1.ipynb'))"
   ]
  }
 ],
 "metadata": {
  "kernelspec": {
   "display_name": "base",
   "language": "python",
   "name": "python3"
  },
  "language_info": {
   "codemirror_mode": {
    "name": "ipython",
    "version": 3
   },
   "file_extension": ".py",
   "mimetype": "text/x-python",
   "name": "python",
   "nbconvert_exporter": "python",
   "pygments_lexer": "ipython3",
   "version": "3.11.9"
  }
 },
 "nbformat": 4,
 "nbformat_minor": 5
}
