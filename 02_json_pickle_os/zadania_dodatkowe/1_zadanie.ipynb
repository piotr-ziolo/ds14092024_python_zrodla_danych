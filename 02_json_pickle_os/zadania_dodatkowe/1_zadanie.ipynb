{
 "cells": [
  {
   "cell_type": "markdown",
   "id": "df2f1d94-ac77-4868-b107-62ebde3eb4c9",
   "metadata": {},
   "source": [
    "### Wczytywanie danych w formacie json\n",
    "\n",
    "Plik `products.json` zawiera dane o produktach w sklepie zapisane w formacie `json`. Twoim zadaniem jest wczytanie danych z tego pliku, a następnie wyciągnięcie i wyświetlenie informacji o produkcie o najwyższej cenie. Dodatkowo, wyświetl listę wszystkich produktów, które są dostępne w magazynie."
   ]
  },
  {
   "cell_type": "code",
   "execution_count": 1,
   "id": "4243ead1-ac23-4fd6-9b34-9015799aa852",
   "metadata": {},
   "outputs": [
    {
     "name": "stdout",
     "output_type": "stream",
     "text": [
      "{'products': [{'name': 'Laptop', 'category': 'Electronics', 'price': 1200, 'in_stock': True}, {'name': 'Headphones', 'category': 'Electronics', 'price': 150, 'in_stock': False}, {'name': 'Coffee Maker', 'category': 'Home Appliances', 'price': 100, 'in_stock': True}, {'name': 'Book', 'category': 'Books', 'price': 20, 'in_stock': True}, {'name': 'Desk Lamp', 'category': 'Furniture', 'price': 35, 'in_stock': False}]}\n"
     ]
    }
   ],
   "source": [
    "# Wczytywanie pliku JSON\n",
    "import json\n",
    "\n",
    "with open('products.json') as f:\n",
    "    data = json.load(f)\n",
    "\n",
    "print(data)"
   ]
  },
  {
   "cell_type": "code",
   "execution_count": 4,
   "id": "cfa5e8b7-5875-42b5-ab1c-ee5b5a7b6511",
   "metadata": {},
   "outputs": [
    {
     "name": "stdout",
     "output_type": "stream",
     "text": [
      "{'name': 'Laptop', 'category': 'Electronics', 'price': 1200, 'in_stock': True}\n"
     ]
    }
   ],
   "source": [
    "# Znalezienie produktu o najwyższej cenie (beginner version)\n",
    "for product in data['products']:\n",
    "    if not max_price:\n",
    "        max_price = 0\n",
    "    if product['price'] > max_price:\n",
    "        max_price = product['price']\n",
    "        max_price_product = product\n",
    "\n",
    "print(max_price_product)"
   ]
  },
  {
   "cell_type": "code",
   "execution_count": 3,
   "id": "7a2896cf-d13a-4f9b-9a18-9f00e5ca3f61",
   "metadata": {},
   "outputs": [
    {
     "data": {
      "text/plain": [
       "{'name': 'Laptop', 'category': 'Electronics', 'price': 1200, 'in_stock': True}"
      ]
     },
     "execution_count": 3,
     "metadata": {},
     "output_type": "execute_result"
    }
   ],
   "source": [
    "# Znalezienie produktu o najwyższej cenie (pro version)\n",
    "max(data['products'], key = lambda x: x['price'])"
   ]
  },
  {
   "cell_type": "code",
   "execution_count": 6,
   "id": "dab07655-4d1c-42ee-b0e1-78eb9b312e18",
   "metadata": {},
   "outputs": [
    {
     "data": {
      "text/plain": [
       "[{'name': 'Laptop',\n",
       "  'category': 'Electronics',\n",
       "  'price': 1200,\n",
       "  'in_stock': True},\n",
       " {'name': 'Coffee Maker',\n",
       "  'category': 'Home Appliances',\n",
       "  'price': 100,\n",
       "  'in_stock': True},\n",
       " {'name': 'Book', 'category': 'Books', 'price': 20, 'in_stock': True}]"
      ]
     },
     "execution_count": 6,
     "metadata": {},
     "output_type": "execute_result"
    }
   ],
   "source": [
    "# Wyświetlenie produktów dostępnych w magazynie (beginner version)\n",
    "[product for product in data['products'] if product['in_stock']]"
   ]
  },
  {
   "cell_type": "code",
   "execution_count": 7,
   "id": "9d44ea45-64eb-4911-933b-bef6ac0c4bb3",
   "metadata": {},
   "outputs": [
    {
     "data": {
      "text/plain": [
       "[{'name': 'Laptop',\n",
       "  'category': 'Electronics',\n",
       "  'price': 1200,\n",
       "  'in_stock': True},\n",
       " {'name': 'Coffee Maker',\n",
       "  'category': 'Home Appliances',\n",
       "  'price': 100,\n",
       "  'in_stock': True},\n",
       " {'name': 'Book', 'category': 'Books', 'price': 20, 'in_stock': True}]"
      ]
     },
     "execution_count": 7,
     "metadata": {},
     "output_type": "execute_result"
    }
   ],
   "source": [
    "# Wyświetlenie produktów dostępnych w magazynie (pro version)\n",
    "[product for product in data['products'] if product['in_stock']]"
   ]
  }
 ],
 "metadata": {
  "kernelspec": {
   "display_name": "base",
   "language": "python",
   "name": "python3"
  },
  "language_info": {
   "codemirror_mode": {
    "name": "ipython",
    "version": 3
   },
   "file_extension": ".py",
   "mimetype": "text/x-python",
   "name": "python",
   "nbconvert_exporter": "python",
   "pygments_lexer": "ipython3",
   "version": "3.11.9"
  }
 },
 "nbformat": 4,
 "nbformat_minor": 5
}
