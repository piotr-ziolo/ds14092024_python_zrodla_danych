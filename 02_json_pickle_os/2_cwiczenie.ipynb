{
 "cells": [
  {
   "cell_type": "markdown",
   "id": "a8076d1c-13eb-40b2-8761-971d8fe62957",
   "metadata": {},
   "source": [
    "#### Zapisywanie zawartości do pliku JSON\n",
    "\n",
    "W zmiennej new_employees znajduje się lista danych o nowych pracownikach, którą należy zapisać do pliku JSON. Napisz skrypt, który zapisze te dane do pliku `new_employees.json` w formacie `json`."
   ]
  },
  {
   "cell_type": "code",
   "execution_count": 1,
   "id": "dbef7288-e969-4895-8ddc-1346d12013fe",
   "metadata": {},
   "outputs": [],
   "source": [
    "new_employees = [\n",
    "    {\n",
    "        \"name\": \"Marcin Kwiatkowski\",\n",
    "        \"department\": \"Logistics\",\n",
    "        \"years_of_service\": 1\n",
    "    },\n",
    "    {\n",
    "        \"name\": \"Joanna Zawadzka\",\n",
    "        \"department\": \"IT\",\n",
    "        \"years_of_service\": 4\n",
    "    },\n",
    "    {\n",
    "        \"name\": \"Robert Majewski\",\n",
    "        \"department\": \"HR\",\n",
    "        \"years_of_service\": 2\n",
    "    }\n",
    "]\n"
   ]
  },
  {
   "cell_type": "markdown",
   "id": "a5bd2510-7790-43f3-a677-f135e55c853a",
   "metadata": {},
   "source": [
    "Tym razem mamy do czynienia z serializacją danych (słownika python) do formatu JSON."
   ]
  },
  {
   "cell_type": "code",
   "execution_count": 2,
   "id": "68612ad3-2235-45c7-acc9-04051a253802",
   "metadata": {},
   "outputs": [
    {
     "name": "stdout",
     "output_type": "stream",
     "text": [
      "['JSONDecodeError', 'JSONDecoder', 'JSONEncoder', '__all__', '__author__', '__builtins__', '__cached__', '__doc__', '__file__', '__loader__', '__name__', '__package__', '__path__', '__spec__', '__version__', '_default_decoder', '_default_encoder', 'codecs', 'decoder', 'detect_encoding', 'dump', 'dumps', 'encoder', 'load', 'loads', 'scanner']\n"
     ]
    }
   ],
   "source": [
    "import json\n",
    "\n",
    "print(dir(json))"
   ]
  },
  {
   "cell_type": "markdown",
   "id": "d85547bb-dd66-439f-a424-2a67ccd36abb",
   "metadata": {},
   "source": [
    "Do serializacji do formatu json służą funkce dump i dumps (od (**dump** to **s**tring)"
   ]
  },
  {
   "cell_type": "code",
   "execution_count": 3,
   "id": "a1a259c7-a317-4315-b064-71dd4f343f68",
   "metadata": {},
   "outputs": [
    {
     "name": "stdout",
     "output_type": "stream",
     "text": [
      "[{\"name\": \"Marcin Kwiatkowski\", \"department\": \"Logistics\", \"years_of_service\": 1}, {\"name\": \"Joanna Zawadzka\", \"department\": \"IT\", \"years_of_service\": 4}, {\"name\": \"Robert Majewski\", \"department\": \"HR\", \"years_of_service\": 2}]\n"
     ]
    }
   ],
   "source": [
    "# Najpierw zserializujmy słownik do napisu\n",
    "content = json.dumps(new_employees)\n",
    "print(content)"
   ]
  },
  {
   "cell_type": "code",
   "execution_count": 4,
   "id": "2780f8cc-270a-40c9-836d-8f8cb9336423",
   "metadata": {},
   "outputs": [],
   "source": [
    "# i teraz można taki string zapisać do pliku (funkcja `dumps`)\n",
    "with open(\"new_employees.json\", \"w\") as f:\n",
    "    f.write(content)"
   ]
  },
  {
   "cell_type": "markdown",
   "id": "360b0f59-6c0c-42e3-83b5-e1d458aed13b",
   "metadata": {},
   "source": [
    "taki jsonowy string można renderować za pomocą opcjonalnego parametru `indent`"
   ]
  },
  {
   "cell_type": "code",
   "execution_count": 6,
   "id": "c03d4167-ebae-4fe5-9a0f-899ec9736860",
   "metadata": {},
   "outputs": [
    {
     "name": "stdout",
     "output_type": "stream",
     "text": [
      "[\n",
      "            {\n",
      "                        \"name\": \"Marcin Kwiatkowski\",\n",
      "                        \"department\": \"Logistics\",\n",
      "                        \"years_of_service\": 1\n",
      "            },\n",
      "            {\n",
      "                        \"name\": \"Joanna Zawadzka\",\n",
      "                        \"department\": \"IT\",\n",
      "                        \"years_of_service\": 4\n",
      "            },\n",
      "            {\n",
      "                        \"name\": \"Robert Majewski\",\n",
      "                        \"department\": \"HR\",\n",
      "                        \"years_of_service\": 2\n",
      "            }\n",
      "]\n"
     ]
    }
   ],
   "source": [
    "# parametr `indent`\n",
    "content = json.dumps(new_employees, indent = 12)\n",
    "print(content)"
   ]
  },
  {
   "cell_type": "markdown",
   "id": "aeb37d90-54c4-4021-832e-2c69b6417ca0",
   "metadata": {},
   "source": [
    "No i można też oczywiście serializować dane bezpośrednio do pliku, z pominięciem kroku pośredniego, czyli wczytwania danych do napisu (funkcja `dump`)"
   ]
  },
  {
   "cell_type": "code",
   "execution_count": 7,
   "id": "8cb2819e-734f-4756-bfbc-f59872dc5f7b",
   "metadata": {},
   "outputs": [],
   "source": [
    "# funkcja `dump`\n",
    "with open (\"new_employees3.json\", \"w\") as f:\n",
    "    json.dump(new_employees, f)\n"
   ]
  },
  {
   "cell_type": "markdown",
   "id": "9d3c4c23-d46f-4146-b026-4152c9a7d601",
   "metadata": {},
   "source": [
    "**Zapamiętaj**"
   ]
  },
  {
   "cell_type": "raw",
   "id": "29f5e043-5259-46b8-9a5c-8f8e3aded1ea",
   "metadata": {},
   "source": [
    "                          --> serializacja -->\n",
    "dane w programie                                           dane gdzieś zapisane (np. w pamięci Twojego komputera)\n",
    "                          <-- deserializacja <--"
   ]
  },
  {
   "cell_type": "markdown",
   "id": "61384f29-ea8f-442b-b89e-45b4b33c3294",
   "metadata": {},
   "source": [
    "Terminy serialiacja i deserializacja mają znacznie szersze zastosowanie niż format json. Dotyczą konwertowania danych pomiędzy dowolnymi formatami.\n",
    "\n",
    "**Serializacja** to proces przenoszenia danych (np. dowolonego obiektu pythonowego takiego jak słownik lub jakaś klasa) do formatu wygodnego do przesyłania, zapisywania i przechowywania (np. json, xml, csv, format binarny).\\\n",
    "**Deserializacją** nazywamy proces odwrotny, czyli konwertowanie otrzymanych/wczytanych danych do obiektu pythonowego, wygodnego do wykonywania operacji na tych danych. "
   ]
  }
 ],
 "metadata": {
  "kernelspec": {
   "display_name": "base",
   "language": "python",
   "name": "python3"
  },
  "language_info": {
   "codemirror_mode": {
    "name": "ipython",
    "version": 3
   },
   "file_extension": ".py",
   "mimetype": "text/x-python",
   "name": "python",
   "nbconvert_exporter": "python",
   "pygments_lexer": "ipython3",
   "version": "3.11.9"
  }
 },
 "nbformat": 4,
 "nbformat_minor": 5
}
