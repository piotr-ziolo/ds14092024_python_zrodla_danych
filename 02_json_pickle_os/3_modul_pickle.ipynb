{
 "cells": [
  {
   "cell_type": "markdown",
   "id": "952afd4f-9887-42b8-aa0a-2fa8001af379",
   "metadata": {},
   "source": [
    "### [pickle — Python object serialization](https://docs.python.org/3/library/pickle.html)\n",
    "\n",
    "Moduł [pickle](https://docs.python.org/3/library/pickle.html) implementuje binarny protokół do serializacji i deserializacji obiektów Pythonowych. Za jego pomocą możemy:\n",
    "- serializować obiekt Pythonowy do formatu binarnego (aka `pickle`)\n",
    "- deserializować plik/strumień binarny do obiektu pythonowego (aka `unpickle`)\n",
    "\n",
    "Termin piklowanie (ang. `pickling`) jest stosowany zamiennie z terminami takimi jak `serialization`, `marhalling`, `flattening`, ale jest charakterystyczny wyłącznie dla biblioteki `pickle`."
   ]
  },
  {
   "cell_type": "markdown",
   "id": "76d58ad8-4e8d-41ce-b021-a06776a2544b",
   "metadata": {},
   "source": [
    "Popatrzmy na moduł pickle."
   ]
  },
  {
   "cell_type": "code",
   "execution_count": 1,
   "id": "632820c2-1642-47c8-bfa8-05dce593dcb3",
   "metadata": {},
   "outputs": [
    {
     "name": "stdout",
     "output_type": "stream",
     "text": [
      "['ADDITEMS', 'APPEND', 'APPENDS', 'BINBYTES', 'BINBYTES8', 'BINFLOAT', 'BINGET', 'BININT', 'BININT1', 'BININT2', 'BINPERSID', 'BINPUT', 'BINSTRING', 'BINUNICODE', 'BINUNICODE8', 'BUILD', 'BYTEARRAY8', 'DEFAULT_PROTOCOL', 'DICT', 'DUP', 'EMPTY_DICT', 'EMPTY_LIST', 'EMPTY_SET', 'EMPTY_TUPLE', 'EXT1', 'EXT2', 'EXT4', 'FALSE', 'FLOAT', 'FRAME', 'FROZENSET', 'FunctionType', 'GET', 'GLOBAL', 'HIGHEST_PROTOCOL', 'INST', 'INT', 'LIST', 'LONG', 'LONG1', 'LONG4', 'LONG_BINGET', 'LONG_BINPUT', 'MARK', 'MEMOIZE', 'NEWFALSE', 'NEWOBJ', 'NEWOBJ_EX', 'NEWTRUE', 'NEXT_BUFFER', 'NONE', 'OBJ', 'PERSID', 'POP', 'POP_MARK', 'PROTO', 'PUT', 'PickleBuffer', 'PickleError', 'Pickler', 'PicklingError', 'PyStringMap', 'READONLY_BUFFER', 'REDUCE', 'SETITEM', 'SETITEMS', 'SHORT_BINBYTES', 'SHORT_BINSTRING', 'SHORT_BINUNICODE', 'STACK_GLOBAL', 'STOP', 'STRING', 'TRUE', 'TUPLE', 'TUPLE1', 'TUPLE2', 'TUPLE3', 'UNICODE', 'Unpickler', 'UnpicklingError', '_Framer', '_HAVE_PICKLE_BUFFER', '_Pickler', '_Stop', '_Unframer', '_Unpickler', '__all__', '__builtins__', '__cached__', '__doc__', '__file__', '__loader__', '__name__', '__package__', '__spec__', '_compat_pickle', '_dump', '_dumps', '_extension_cache', '_extension_registry', '_getattribute', '_inverted_registry', '_load', '_loads', '_test', '_tuplesize2code', 'bytes_types', 'codecs', 'compatible_formats', 'decode_long', 'dispatch_table', 'dump', 'dumps', 'encode_long', 'format_version', 'io', 'islice', 'load', 'loads', 'maxsize', 'pack', 'partial', 're', 'sys', 'unpack', 'whichmodule']\n"
     ]
    }
   ],
   "source": [
    "# poznajemy bibliotekę pickle\n",
    "import pickle\n",
    "\n",
    "print(dir(pickle))"
   ]
  },
  {
   "cell_type": "markdown",
   "id": "ffef0bd9-c60f-4910-8f8f-f552f99a1b1c",
   "metadata": {},
   "source": [
    "Rozpoznajemy znajome funkcje: [`dump`](https://docs.python.org/3/library/pickle.html#pickle.dump), [`dumps`](https://docs.python.org/3/library/pickle.html#pickle.dumps), [`load`](https://docs.python.org/3/library/pickle.html#pickle.load), [`loads`](https://docs.python.org/3/library/pickle.html#pickle.loads). Są to standardowe funkcje, które bardzo częto pojawiają się w kontekstach związanych z serializacją/deserializacją w Pythonie."
   ]
  },
  {
   "cell_type": "markdown",
   "id": "a13f706b-1668-4ecf-a9d6-94baf0f80876",
   "metadata": {},
   "source": [
    "**No to spiklujmy jakiś nasz obiekt**"
   ]
  },
  {
   "cell_type": "code",
   "execution_count": 2,
   "id": "f3f87bdd-33a0-4f6e-9ca6-3d2e6ad6def8",
   "metadata": {},
   "outputs": [
    {
     "name": "stdout",
     "output_type": "stream",
     "text": [
      "Moo, I am Berta and I am 5 years old\n"
     ]
    }
   ],
   "source": [
    "# Tworzymy jakąś klasę i ją inicjalizujemy\n",
    "class Cow:\n",
    "    def __init__(self, name, age):\n",
    "        self.name = name\n",
    "        self.age = age\n",
    "\n",
    "    def speak(self):\n",
    "        print(f'Moo, I am {self.name} and I am {self.age} years old')\n",
    "\n",
    "cow1 = Cow('Berta', 5)\n",
    "cow1.speak()"
   ]
  },
  {
   "cell_type": "code",
   "execution_count": null,
   "id": "3a6fdb9c-37e9-4290-89ff-f03b4bfeb6ed",
   "metadata": {},
   "outputs": [],
   "source": [
    "# I teraz spiklujmy nasz obiek\n",
    "# Uwaga! Zapisujemy w formacie binarnym (stąd flaga 'b'-  bez nie nie zadziała)\n",
    "with open('cow1.pickle', 'wb') as file:\n",
    "    pickle.dump(cow1, file)"
   ]
  },
  {
   "cell_type": "markdown",
   "id": "dfd0f7be-2c21-4326-bf0e-a024438497b1",
   "metadata": {},
   "source": [
    "Identycznie jak było przy formacie json, obiekt pythonowy możemy też przekonwertować do napisu (binarnego) za pomocą funkcji [`dumps`](https://docs.python.org/3/library/pickle.html#pickle.dumps)."
   ]
  },
  {
   "cell_type": "code",
   "execution_count": null,
   "id": "53eb0e04-a7ea-4f84-af5c-cfb6c38f1d2c",
   "metadata": {},
   "outputs": [],
   "source": [
    "# Można go spiklować do ciągu bitów\n"
   ]
  },
  {
   "cell_type": "code",
   "execution_count": null,
   "id": "2fc77345-4bf9-4486-b33f-0e018109ba67",
   "metadata": {},
   "outputs": [],
   "source": [
    "# jakiego typu jest wynik?\n"
   ]
  },
  {
   "cell_type": "markdown",
   "id": "c978939a-9c18-4b94-9209-a868172fb716",
   "metadata": {},
   "source": [
    "**A teraz w drugą stronę \"odpiklujmy spiklowany\" obiekt (unpickle).**"
   ]
  },
  {
   "cell_type": "markdown",
   "id": "0d285494-d5b9-416b-81ea-8fdef8d29330",
   "metadata": {},
   "source": [
    "- z użyciem funkcji [`loads`](https://docs.python.org/3/library/pickle.html#pickle.loads) biblioteki `pickle`"
   ]
  },
  {
   "cell_type": "code",
   "execution_count": null,
   "id": "87f1edb4-62a4-47c9-af21-7a70b589375b",
   "metadata": {},
   "outputs": [],
   "source": [
    "# Załadowujemy obiekt z ciągu bitów\n"
   ]
  },
  {
   "cell_type": "code",
   "execution_count": null,
   "id": "60df2ede-b6ca-41fb-8344-ed6ac2eeeb60",
   "metadata": {},
   "outputs": [],
   "source": [
    "# sprawdźmy atrybut wczytanego obiektu\n"
   ]
  },
  {
   "cell_type": "markdown",
   "id": "ec718f5f-de18-4d2b-9852-eac38b8d7dbd",
   "metadata": {},
   "source": [
    "- z użyciem funkcji [`load`](https://docs.python.org/3/library/pickle.html#pickle.load) biblioteki `pickle`"
   ]
  },
  {
   "cell_type": "code",
   "execution_count": 4,
   "id": "89c38236-4241-459b-a33d-9392eed0253e",
   "metadata": {},
   "outputs": [
    {
     "ename": "FileNotFoundError",
     "evalue": "[Errno 2] No such file or directory: 'cow.pickle'",
     "output_type": "error",
     "traceback": [
      "\u001b[1;31m---------------------------------------------------------------------------\u001b[0m",
      "\u001b[1;31mFileNotFoundError\u001b[0m                         Traceback (most recent call last)",
      "Cell \u001b[1;32mIn[4], line 2\u001b[0m\n\u001b[0;32m      1\u001b[0m \u001b[38;5;66;03m# Załadowujemy obiekt z pliku binarnego pickle\u001b[39;00m\n\u001b[1;32m----> 2\u001b[0m \u001b[38;5;28;01mwith\u001b[39;00m \u001b[38;5;28mopen\u001b[39m(\u001b[38;5;124m'\u001b[39m\u001b[38;5;124mcow.pickle\u001b[39m\u001b[38;5;124m'\u001b[39m, \u001b[38;5;124m'\u001b[39m\u001b[38;5;124mrb\u001b[39m\u001b[38;5;124m'\u001b[39m) \u001b[38;5;28;01mas\u001b[39;00m file:\n\u001b[0;32m      3\u001b[0m     loaded_cow2 \u001b[38;5;241m=\u001b[39m pickle\u001b[38;5;241m.\u001b[39mload(file)\n",
      "File \u001b[1;32m~\\AppData\\Roaming\\Python\\Python311\\site-packages\\IPython\\core\\interactiveshell.py:284\u001b[0m, in \u001b[0;36m_modified_open\u001b[1;34m(file, *args, **kwargs)\u001b[0m\n\u001b[0;32m    277\u001b[0m \u001b[38;5;28;01mif\u001b[39;00m file \u001b[38;5;129;01min\u001b[39;00m {\u001b[38;5;241m0\u001b[39m, \u001b[38;5;241m1\u001b[39m, \u001b[38;5;241m2\u001b[39m}:\n\u001b[0;32m    278\u001b[0m     \u001b[38;5;28;01mraise\u001b[39;00m \u001b[38;5;167;01mValueError\u001b[39;00m(\n\u001b[0;32m    279\u001b[0m         \u001b[38;5;124mf\u001b[39m\u001b[38;5;124m\"\u001b[39m\u001b[38;5;124mIPython won\u001b[39m\u001b[38;5;124m'\u001b[39m\u001b[38;5;124mt let you open fd=\u001b[39m\u001b[38;5;132;01m{\u001b[39;00mfile\u001b[38;5;132;01m}\u001b[39;00m\u001b[38;5;124m by default \u001b[39m\u001b[38;5;124m\"\u001b[39m\n\u001b[0;32m    280\u001b[0m         \u001b[38;5;124m\"\u001b[39m\u001b[38;5;124mas it is likely to crash IPython. If you know what you are doing, \u001b[39m\u001b[38;5;124m\"\u001b[39m\n\u001b[0;32m    281\u001b[0m         \u001b[38;5;124m\"\u001b[39m\u001b[38;5;124myou can use builtins\u001b[39m\u001b[38;5;124m'\u001b[39m\u001b[38;5;124m open.\u001b[39m\u001b[38;5;124m\"\u001b[39m\n\u001b[0;32m    282\u001b[0m     )\n\u001b[1;32m--> 284\u001b[0m \u001b[38;5;28;01mreturn\u001b[39;00m io_open(file, \u001b[38;5;241m*\u001b[39margs, \u001b[38;5;241m*\u001b[39m\u001b[38;5;241m*\u001b[39mkwargs)\n",
      "\u001b[1;31mFileNotFoundError\u001b[0m: [Errno 2] No such file or directory: 'cow.pickle'"
     ]
    }
   ],
   "source": [
    "# Załadowujemy obiekt z pliku binarnego pickle\n",
    "with open('cow.pickle', 'rb') as file:\n",
    "    loaded_cow2 = pickle.load(file)"
   ]
  },
  {
   "cell_type": "code",
   "execution_count": null,
   "id": "6b805102-a20b-484d-89b0-33b8b6202f01",
   "metadata": {},
   "outputs": [],
   "source": [
    "# sprawdźmy atrybut wczytanego obiektu\n",
    "loaded_cow2.age"
   ]
  },
  {
   "cell_type": "markdown",
   "id": "654ceb95-35f1-4b3d-af0e-b4cace4ed310",
   "metadata": {},
   "source": [
    "#### Ważna uwaga"
   ]
  },
  {
   "cell_type": "markdown",
   "id": "7743f57a-b4ae-4605-9d27-e107aa52598d",
   "metadata": {},
   "source": [
    "Kiedy wchodzimy na stronę biblioteki [`pickle`](https://docs.python.org/3/library/pickle.html) naszym oczom ukazuje się wielka czerwona ramka"
   ]
  },
  {
   "attachments": {
    "254c877b-3d1e-4c98-a4e0-3822ccffc5b2.png": {
     "image/png": "[encoded data removed]"
    }
   },
   "cell_type": "markdown",
   "id": "046ddf25-eebb-4480-a1bd-a8ac68eccf00",
   "metadata": {},
   "source": [
    "![image.png](attachment:254c877b-3d1e-4c98-a4e0-3822ccffc5b2.png)"
   ]
  },
  {
   "cell_type": "markdown",
   "id": "a6cddac4-d1d0-4720-b2cf-a062df2c205d",
   "metadata": {},
   "source": [
    "Dlaczego piklowanie nie jest bezpieczne ?"
   ]
  },
  {
   "cell_type": "markdown",
   "id": "d389e34f-ecfb-4463-9bfe-3a41f287a358",
   "metadata": {},
   "source": [
    "Ponieważ ktoś może spiklować jakiś obiekt, który przy odpiklowywaniu wykona jakieś szkodliwe operacje.\n",
    "\n",
    "W jaki sposób to zrobić?\n",
    "\n",
    "Wystarczy wiedzieć, że moduł pickle podczas odpiklowywania obiektu wywołuje m.in. metodę `__setstate__` tego obiektu. Tak metoda służy do ustawienia atrybutów wczytywanego obiektu. Jeżeli w metodzie `__setstate__` umieścimy szkodliwy kod to zostanie on wykonany na komputerze osoby, która będzie próbowała odpiklować ten obiekt.\n",
    "\n",
    "Popatrzmy"
   ]
  },
  {
   "cell_type": "code",
   "execution_count": null,
   "id": "33a8347e-5163-4b10-ae73-230f6c208231",
   "metadata": {},
   "outputs": [],
   "source": [
    "# Zainfekowany obiekt\n"
   ]
  },
  {
   "cell_type": "markdown",
   "id": "daa6a643-25da-4a10-af53-978f494c562a",
   "metadata": {},
   "source": [
    "Utwórzmy obiekt naszej klasy i spiklujmy go."
   ]
  },
  {
   "cell_type": "code",
   "execution_count": null,
   "id": "05ee0e93-9f8b-4a74-82c0-45d7cbe6f90b",
   "metadata": {},
   "outputs": [],
   "source": [
    "# inicjalizacja i piklowanie\n"
   ]
  },
  {
   "cell_type": "markdown",
   "id": "a0c526c5-114d-4f72-a1d2-56dd83a501e4",
   "metadata": {},
   "source": [
    "Teraz mamy spiklowany obiekt, który możemy umieścić gdziekolwiek, na przykład w sieci, albo przesłać komuś. I niczego nieświadoma ofiara przy wczytywaniu zawartości (`unpikle`):"
   ]
  },
  {
   "cell_type": "code",
   "execution_count": null,
   "id": "d9de24f1-5993-455a-83a6-40e7d7d9ee08",
   "metadata": {},
   "outputs": [],
   "source": [
    "# odpiklowanie\n"
   ]
  },
  {
   "cell_type": "markdown",
   "id": "3f0b297a-6726-4997-9f8f-dcf1e6b7794a",
   "metadata": {},
   "source": [
    "**Zapamiętaj!**\n",
    "\n",
    "Nigdy nie należy odpiklowywać zawartości niewiadomego pochodzenia."
   ]
  }
 ],
 "metadata": {
  "kernelspec": {
   "display_name": "base",
   "language": "python",
   "name": "python3"
  },
  "language_info": {
   "codemirror_mode": {
    "name": "ipython",
    "version": 3
   },
   "file_extension": ".py",
   "mimetype": "text/x-python",
   "name": "python",
   "nbconvert_exporter": "python",
   "pygments_lexer": "ipython3",
   "version": "3.11.9"
  }
 },
 "nbformat": 4,
 "nbformat_minor": 5
}
