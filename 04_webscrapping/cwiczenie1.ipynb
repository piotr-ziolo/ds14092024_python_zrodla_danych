{
 "cells": [
  {
   "cell_type": "markdown",
   "id": "7726bafe-8c3a-40ac-90fb-aa34f7ac0787",
   "metadata": {},
   "source": [
    "### [NBP](https://www.nbp.pl/)"
   ]
  },
  {
   "cell_type": "markdown",
   "id": "c92475e3-9b58-422b-9ca5-e83da2c6f873",
   "metadata": {},
   "source": [
    "#### To zadanie nie zadziała, bo strona ma zabezpieczenie. Żeby je obejść patrz cwiczenie3.ipynb.\n",
    "\n",
    "To zadanie ma na celu przetestowanie, czy wszystkie potrzebne biblioteki i sterowniki są zainstalowane poprawnie. \n",
    "Jeśli wszystko działa zgodnie z planem, na końcu zobaczysz kursy pięciu walut odczytane ze strony Narodowego Banku Polskiego."
   ]
  },
  {
   "cell_type": "code",
   "execution_count": 1,
   "id": "04a020bc-a276-45d0-9ff7-765fc1f115b4",
   "metadata": {},
   "outputs": [],
   "source": [
    "url = \"https://nbp.pl/\""
   ]
  },
  {
   "cell_type": "code",
   "execution_count": null,
   "id": "e9e96414",
   "metadata": {},
   "outputs": [],
   "source": []
  }
 ],
 "metadata": {
  "kernelspec": {
   "display_name": "base",
   "language": "python",
   "name": "python3"
  },
  "language_info": {
   "codemirror_mode": {
    "name": "ipython",
    "version": 3
   },
   "file_extension": ".py",
   "mimetype": "text/x-python",
   "name": "python",
   "nbconvert_exporter": "python",
   "pygments_lexer": "ipython3",
   "version": "3.11.9"
  }
 },
 "nbformat": 4,
 "nbformat_minor": 5
}
