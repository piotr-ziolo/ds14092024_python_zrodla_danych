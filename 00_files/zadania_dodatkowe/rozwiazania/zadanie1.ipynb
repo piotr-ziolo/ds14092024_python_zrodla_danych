{
 "cells": [
  {
   "cell_type": "markdown",
   "id": "394b5912-aac4-4b93-9241-f8543ea26595",
   "metadata": {},
   "source": [
    "### Zadanie 1: Analiza Plików Logów"
   ]
  },
  {
   "cell_type": "markdown",
   "id": "c601e161-c4f1-4d58-b846-9a959e9cf055",
   "metadata": {},
   "source": [
    "#### Opis zadania:\n",
    "Jesteś analitykiem danych w firmie technologicznej. Twoim zadaniem jest przeanalizowanie plików logów serwera, aby zidentyfikować trendy i anomalie. Logi znajdują się w pliku `debug.log` i zawierają informacje o zdarzeniach systemowych, takie jak czas zdarzenia, typ zdarzenia i wiadomość."
   ]
  },
  {
   "cell_type": "markdown",
   "id": "ac5cdcd8-d207-4c91-827a-79425d681536",
   "metadata": {},
   "source": [
    "Twoje zadanie polega na napisaniu skryptu w Pythonie, który wykona następujące operacje:\n",
    "\n",
    "1. Wczyta zawartość pliku logu.\n",
    "2. Policz liczbę zdarzeń każdego typu (INFO, WARNING, ERROR).\n",
    "3. Znajdzie pierwsze i ostatnie zdarzenie w logu.\n",
    "4. Wypisze wszystkie zdarzenia typu ERROR.\n",
    "5. Zapisze wyniki analizy do nowego pliku (analysis.txt)."
   ]
  },
  {
   "cell_type": "markdown",
   "id": "0fa2d13e-80c9-4636-a56d-08b60f626940",
   "metadata": {},
   "source": [
    "#### 1. Wczytanie zawartości pliku logu"
   ]
  },
  {
   "cell_type": "code",
   "execution_count": 1,
   "id": "41233150-53f9-4067-9512-4b694d70177e",
   "metadata": {},
   "outputs": [
    {
     "name": "stdout",
     "output_type": "stream",
     "text": [
      "2024-06-01 12:00:00 INFO User login: user123\n",
      "2024-06-01 12:05:00 ERROR Failed to connect to database\n",
      "2024-06-01 12:10:00 INFO Data processing started\n",
      "2024-06-01 12:15:00 WARNING Low disk space\n",
      "2024-06-01 12:20:00 INFO Data processing completed\n"
     ]
    }
   ],
   "source": [
    "with open('debug.log', 'r') as f:\n",
    "    content = f.read()\n",
    "\n",
    "print(content)"
   ]
  },
  {
   "cell_type": "markdown",
   "id": "50fa0f23-c677-4c6f-89dc-71a742281daa",
   "metadata": {},
   "source": [
    "lub"
   ]
  },
  {
   "cell_type": "code",
   "execution_count": 2,
   "id": "7730c2de-299c-4e07-bc98-7859f485ea97",
   "metadata": {},
   "outputs": [
    {
     "name": "stdout",
     "output_type": "stream",
     "text": [
      "['2024-06-01 12:00:00 INFO User login: user123\\n', '2024-06-01 12:05:00 ERROR Failed to connect to database\\n', '2024-06-01 12:10:00 INFO Data processing started\\n', '2024-06-01 12:15:00 WARNING Low disk space\\n', '2024-06-01 12:20:00 INFO Data processing completed']\n"
     ]
    }
   ],
   "source": [
    "with open('debug.log', 'r') as f:\n",
    "    lines = f.readlines()\n",
    "\n",
    "print(lines)"
   ]
  },
  {
   "cell_type": "markdown",
   "id": "1d222d78-98e1-45d9-8361-d651e9123ea4",
   "metadata": {},
   "source": [
    "#### 2. Policzenie liczby zdarzeń każdego typu (INFO, WARNING, ERROR)"
   ]
  },
  {
   "cell_type": "code",
   "execution_count": 3,
   "id": "45445eda-b6e3-4270-8cf0-afcef09610d8",
   "metadata": {},
   "outputs": [
    {
     "name": "stdout",
     "output_type": "stream",
     "text": [
      "{'INFO': 3, 'WARNING': 1, 'ERROR': 1}\n"
     ]
    }
   ],
   "source": [
    "event_counts = {'INFO': 0, 'WARNING': 0, 'ERROR': 0}\n",
    "\n",
    "for line in lines:\n",
    "    if 'INFO' in line:\n",
    "        event_counts['INFO'] += 1\n",
    "    elif 'WARNING' in line:\n",
    "        event_counts['WARNING'] += 1\n",
    "    elif 'ERROR' in line:\n",
    "        event_counts['ERROR'] += 1\n",
    "\n",
    "print(event_counts)"
   ]
  },
  {
   "cell_type": "markdown",
   "id": "21f92bd3-c238-45cf-ba23-7cc70988e141",
   "metadata": {},
   "source": [
    "#### 3. Znalezienie pierwszego i ostatniego zdarzenia w logu"
   ]
  },
  {
   "cell_type": "code",
   "execution_count": 4,
   "id": "a23c48bb-b0b0-47c8-ad64-6d0605294a31",
   "metadata": {},
   "outputs": [
    {
     "name": "stdout",
     "output_type": "stream",
     "text": [
      "2024-06-01 12:00:00 INFO User login: user123\n",
      "2024-06-01 12:20:00 INFO Data processing completed\n"
     ]
    }
   ],
   "source": [
    "first_event = lines[0].strip()\n",
    "last_event = lines[-1].strip()\n",
    "\n",
    "print(first_event)\n",
    "print(last_event)"
   ]
  },
  {
   "cell_type": "markdown",
   "id": "ca2b529d-3a03-42eb-ab61-1bf2b8df9369",
   "metadata": {},
   "source": [
    "#### 4. Wypisanie wszystkich zdarzeń typu `ERROR`"
   ]
  },
  {
   "cell_type": "code",
   "execution_count": 5,
   "id": "b4c9ea74-3cab-4004-88ac-35f593333cfa",
   "metadata": {},
   "outputs": [
    {
     "name": "stdout",
     "output_type": "stream",
     "text": [
      "['2024-06-01 12:05:00 ERROR Failed to connect to database\\n']\n"
     ]
    }
   ],
   "source": [
    "errors = []\n",
    "\n",
    "for line in lines:\n",
    "    if 'ERROR' in line:\n",
    "        errors.append(line)\n",
    "\n",
    "print(errors)"
   ]
  },
  {
   "cell_type": "markdown",
   "id": "c8f1d60d-dd0f-4045-b5b0-c0de4becfcb4",
   "metadata": {},
   "source": [
    "#### 5. Zapisanie wyników analizy do nowego pliku (analysis.txt)."
   ]
  },
  {
   "cell_type": "code",
   "execution_count": 6,
   "id": "068fefd6-6b82-497c-9969-3113887f9a46",
   "metadata": {},
   "outputs": [],
   "source": [
    "filename = \"debug_analysis.txt\"\n",
    "\n",
    "with open(filename, 'w') as file:\n",
    "    file.write(\"Log Analysis Report\\n\")\n",
    "    file.write(\"===================\\n\\n\")\n",
    "    file.write(f\"Number of INFO events: {event_counts['INFO']}\\n\")\n",
    "    file.write(f\"Number of WARNING events: {event_counts['WARNING']}\\n\")\n",
    "    file.write(f\"Number of ERROR events: {event_counts['ERROR']}\\n\\n\")\n",
    "    file.write(f\"First event: {first_event}\\n\")\n",
    "    file.write(f\"Last event: {last_event}\\n\\n\")\n",
    "    file.write(\"ERROR events:\\n\")\n",
    "    for error in errors:\n",
    "        file.write(error + \"\\n\")"
   ]
  }
 ],
 "metadata": {
  "kernelspec": {
   "display_name": "Python 3 (ipykernel)",
   "language": "python",
   "name": "python3"
  },
  "language_info": {
   "codemirror_mode": {
    "name": "ipython",
    "version": 3
   },
   "file_extension": ".py",
   "mimetype": "text/x-python",
   "name": "python",
   "nbconvert_exporter": "python",
   "pygments_lexer": "ipython3",
   "version": "3.12.4"
  }
 },
 "nbformat": 4,
 "nbformat_minor": 5
}
