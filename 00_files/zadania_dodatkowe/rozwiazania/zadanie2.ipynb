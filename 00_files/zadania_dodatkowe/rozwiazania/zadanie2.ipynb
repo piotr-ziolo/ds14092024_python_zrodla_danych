{
 "cells": [
  {
   "cell_type": "markdown",
   "id": "2c333e8e-e5ec-48ab-9ac0-fd24d8bf25c8",
   "metadata": {},
   "source": [
    "### Zadanie 2: Analiza Danych Pogodowych"
   ]
  },
  {
   "cell_type": "markdown",
   "id": "6e31f9c8-0101-46fa-afec-a84ee414542a",
   "metadata": {},
   "source": [
    "#### Opis zadania:\n",
    "Jesteś analitykiem danych w firmie meteorologicznej. Twoim zadaniem jest przeanalizowanie danych pogodowych, aby zidentyfikować trendy i anomalie w temperaturach. Plik z danymi pogodowymi `weather_data.txt` zawiera informacje o temperaturach z różnych dni i godzin."
   ]
  },
  {
   "cell_type": "markdown",
   "id": "95e29f8e-f4ca-4e53-b922-b17329ef7572",
   "metadata": {},
   "source": [
    "Twoje zadanie polega na napisaniu skryptu w Pythonie, który wykona następujące operacje:\n",
    "\n",
    "1. Wczyta zawartość pliku z danymi pogodowymi.\n",
    "2. Policz średnią temperaturę dla każdego dnia.\n",
    "3. Znajdzie dzień z najwyższą i najniższą średnią temperaturą.\n",
    "4. Znajdzie godzinę z najwyższą i najniższą temperaturą dla każdego dnia.\n",
    "5. Zapisze wyniki analizy do nowego pliku (weather_analysis.txt)."
   ]
  },
  {
   "cell_type": "markdown",
   "id": "df3c7fc9-a83b-4ee6-bdd3-28d1d49d994f",
   "metadata": {},
   "source": [
    "#### 1. Wczytanie zawartość pliku z danymi pogodowymi"
   ]
  },
  {
   "cell_type": "code",
   "execution_count": 1,
   "id": "da82a364-0bf2-40c8-9376-13478035f199",
   "metadata": {},
   "outputs": [
    {
     "name": "stdout",
     "output_type": "stream",
     "text": [
      "['2024-06-01 12:00:00, 22.5\\n', '2024-06-01 13:00:00, 23.1\\n', '2024-06-01 14:00:00, 24.0\\n', '2024-06-01 15:00:00, 25.2\\n', '2024-06-02 12:00:00, 21.0\\n', '2024-06-02 13:00:00, 22.3\\n', '2024-06-02 14:00:00, 23.5\\n', '2024-06-02 15:00:00, 24.7\\n']\n"
     ]
    }
   ],
   "source": [
    "filename = 'weather_data.txt'\n",
    "with open(filename) as f:\n",
    "    lines = f.readlines()\n",
    "\n",
    "print(lines)"
   ]
  },
  {
   "cell_type": "markdown",
   "id": "f586e38f-a937-47a1-add0-6977fb6df805",
   "metadata": {},
   "source": [
    "#### 2. Policzenie średniej temperatury dla każdego dnia"
   ]
  },
  {
   "cell_type": "code",
   "execution_count": 4,
   "id": "86039b90-d541-48c3-bb71-ecf90e958337",
   "metadata": {},
   "outputs": [
    {
     "name": "stdout",
     "output_type": "stream",
     "text": [
      "{'2024-06-01': 23.7, '2024-06-02': 22.875}\n"
     ]
    }
   ],
   "source": [
    "daily_temps = {}\n",
    "\n",
    "for line in lines:\n",
    "    datetime, temp = line.strip().split(\", \")\n",
    "    date, time = datetime.split(\" \")\n",
    "    if date not in daily_temps:\n",
    "        daily_temps[date] = [float(temp)]\n",
    "    else:\n",
    "        daily_temps[date].append(float(temp))\n",
    "\n",
    "daily_avg_temps = {}\n",
    "for date, temp in daily_temps.items():\n",
    "    daily_avg_temps[date] = sum(temp)/len(temp)\n",
    "\n",
    "print(daily_avg_temps)"
   ]
  },
  {
   "cell_type": "markdown",
   "id": "19729478-41c0-4c8d-8632-51420589208a",
   "metadata": {},
   "source": [
    "#### 3. Znalezienie dnia z najwyższą i najniższą średnią temperaturą"
   ]
  },
  {
   "cell_type": "code",
   "execution_count": 5,
   "id": "9dc3e3b6-3db7-4353-b355-ff57a4a5f14b",
   "metadata": {},
   "outputs": [
    {
     "name": "stdout",
     "output_type": "stream",
     "text": [
      "2024-06-01\n",
      "2024-06-02\n"
     ]
    }
   ],
   "source": [
    "day_with_max_temp = max(daily_avg_temps.items(), key=lambda x: x[1])[0]\n",
    "day_with_min_temp = min(daily_avg_temps.items(), key=lambda x: x[1])[0]\n",
    "\n",
    "print(day_with_max_temp)\n",
    "print(day_with_min_temp)"
   ]
  },
  {
   "cell_type": "markdown",
   "id": "15505a64-8ed3-4e61-9de2-1e3eeb604c33",
   "metadata": {},
   "source": [
    "#### 4. Znalezienie godziny z najwyższą i najniższą temperaturą dla każdego dnia"
   ]
  },
  {
   "cell_type": "code",
   "execution_count": 6,
   "id": "dc32bdec-7bfa-4d80-90d5-589bf18698a6",
   "metadata": {},
   "outputs": [
    {
     "name": "stdout",
     "output_type": "stream",
     "text": [
      "{'2024-06-01': {'max_temp': '25.2', 'max_hour': '15:00:00', 'min_temp': '22.5', 'min_hour': '12:00:00'}, '2024-06-02': {'max_temp': '24.7', 'max_hour': '15:00:00', 'min_temp': '21.0', 'min_hour': '12:00:00'}}\n"
     ]
    }
   ],
   "source": [
    "daily_temps2 = {}\n",
    "\n",
    "for line in lines:\n",
    "    datetime, temp = line.strip().split(\", \")\n",
    "    date, time = datetime.split(\" \")\n",
    "    if not date in daily_temps2:\n",
    "        daily_temps2[date] = [(time, temp)]\n",
    "    else:\n",
    "        daily_temps2[date].append([time, temp])\n",
    "\n",
    "\n",
    "daily_extremes = {\n",
    "    key: {\n",
    "        \"max_temp\": max(daily_temps2[key], key=lambda x:x[1])[1], \n",
    "        \"max_hour\": max(daily_temps2[key], key=lambda x:x[1])[0],\n",
    "        \"min_temp\": min(daily_temps2[key], key=lambda x:x[1])[1],\n",
    "        \"min_hour\": min(daily_temps2[key], key=lambda x:x[1])[0]\n",
    "    } for key in daily_temps2\n",
    "}\n",
    "\n",
    "print(daily_extremes)"
   ]
  },
  {
   "cell_type": "markdown",
   "id": "b88f8c0b-36bd-4947-a25d-c8a75935c6b0",
   "metadata": {},
   "source": [
    "#### 5. Zapisanie wyniku analizy do nowego pliku (weather_analysis.txt)"
   ]
  },
  {
   "cell_type": "code",
   "execution_count": 7,
   "id": "4c156b2a-3062-40ea-b5a8-72173991080e",
   "metadata": {},
   "outputs": [],
   "source": [
    "analysis_filename = 'weather_analysis.txt'\n",
    "\n",
    "with open(analysis_filename, 'w', encoding='utf-8') as file:\n",
    "    file.write(\"Weather Data Analysis Report\\n\")\n",
    "    file.write(\"============================\\n\\n\")\n",
    "    \n",
    "    file.write(\"Average temperatures per day:\\n\")\n",
    "    for date, avg_temp in daily_avg_temps.items():\n",
    "        file.write(f\"{date}: {avg_temp:.2f}°C\\n\")\n",
    "    \n",
    "    file.write(f\"\\nDay with highest average temperature: {day_with_max_temp} ({daily_avg_temps[day_with_max_temp]:.2f}°C)\\n\")\n",
    "    file.write(f\"Day with lowest average temperature: {day_with_min_temp} ({daily_avg_temps[day_with_min_temp]:.2f}°C)\\n\\n\")\n",
    "    \n",
    "    file.write(\"Daily temperature extremes:\\n\")\n",
    "    for date, extremes in daily_extremes.items():\n",
    "        file.write(f\"{date}:\\n\")\n",
    "        file.write(f\"  Max temperature: {extremes['max_temp']}°C at {extremes['max_hour']}\\n\")\n",
    "        file.write(f\"  Min temperature: {extremes['min_temp']}°C at {extremes['min_hour']}\\n\")"
   ]
  }
 ],
 "metadata": {
  "kernelspec": {
   "display_name": "Python 3 (ipykernel)",
   "language": "python",
   "name": "python3"
  },
  "language_info": {
   "codemirror_mode": {
    "name": "ipython",
    "version": 3
   },
   "file_extension": ".py",
   "mimetype": "text/x-python",
   "name": "python",
   "nbconvert_exporter": "python",
   "pygments_lexer": "ipython3",
   "version": "3.12.4"
  }
 },
 "nbformat": 4,
 "nbformat_minor": 5
}
