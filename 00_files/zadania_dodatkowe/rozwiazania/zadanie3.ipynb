{
 "cells": [
  {
   "cell_type": "markdown",
   "id": "588a2980-c25c-4a5a-bbb2-a756de8b6cd4",
   "metadata": {},
   "source": [
    "### Zadanie 3: Analiza Logów Użytkowników"
   ]
  },
  {
   "cell_type": "markdown",
   "id": "a682329f-1403-4244-935e-4e4044e319b8",
   "metadata": {},
   "source": [
    "#### Opis zadania:\n",
    "\n",
    "Jesteś analitykiem danych w firmie zajmującej się analizą ruchu na stronach internetowych. Twoim zadaniem jest przeanalizowanie plików logów użytkowników zapisanych w pliku `audit.log`, aby zidentyfikować podstawowe wzorce w ich zachowaniu. Plik z logami zawiera informacje o aktywności użytkowników, takie jak czas, adres IP, identyfikator użytkownika oraz akcja.\n",
    "\n",
    "Twoje zadanie polega na napisaniu skryptu w Pythonie, który wykona następujące operacje:\n",
    "\n",
    "1. Wczyta zawartość pliku z logami użytkowników.\n",
    "2. Zidentyfikuje unikalne adresy IP.\n",
    "3. Policzy liczbę logowań (LOGIN) dla każdego użytkownika.\n",
    "4. Znajdzie wszystkie strony odwiedzane przez użytkowników (akcje VIEW_PAGE).\n",
    "5. Zidentyfikuje użytkowników, którzy się wylogowali (LOGOUT).\n",
    "6. Zapisze wyniki analizy do nowego pliku (user_analysis.txt)."
   ]
  },
  {
   "cell_type": "markdown",
   "id": "ee606e4b-341d-412e-870b-0ba13b8b3168",
   "metadata": {},
   "source": [
    "#### 1. Wczytanie zawartość pliku z logami użytkowników"
   ]
  },
  {
   "cell_type": "code",
   "execution_count": 1,
   "id": "17cf2a23-5c97-4279-ba20-a20206e431ca",
   "metadata": {},
   "outputs": [
    {
     "name": "stdout",
     "output_type": "stream",
     "text": [
      "['2024-06-01 12:00:00, 192.168.1.1, user123, LOGIN\\n', '2024-06-01 12:05:00, 192.168.1.1, user123, VIEW_PAGE:home\\n', '2024-06-01 12:10:00, 192.168.1.2, user456, LOGIN\\n', '2024-06-01 12:15:00, 192.168.1.1, user123, LOGOUT\\n', '2024-06-01 12:20:00, 192.168.1.2, user456, VIEW_PAGE:profile\\n', '2024-06-01 12:25:00, 192.168.1.2, user456, LOGOUT\\n']\n"
     ]
    }
   ],
   "source": [
    "filename = 'audit.log'\n",
    "\n",
    "with open(filename, 'r') as f:\n",
    "    lines = f.readlines()\n",
    "\n",
    "print(lines)"
   ]
  },
  {
   "cell_type": "markdown",
   "id": "9de86900-de30-4299-84fd-79fa632b31df",
   "metadata": {},
   "source": [
    "#### 2. Identyfikacja unikalnych adresów IP"
   ]
  },
  {
   "cell_type": "code",
   "execution_count": 2,
   "id": "1ee79f1f-3171-4417-a5e1-64d89ed0a120",
   "metadata": {},
   "outputs": [
    {
     "name": "stdout",
     "output_type": "stream",
     "text": [
      "{'192.168.1.2', '192.168.1.1'}\n"
     ]
    }
   ],
   "source": [
    "unique_ips = set()\n",
    "\n",
    "for line in lines:\n",
    "    ip = line.strip().split(\", \")[1]\n",
    "    unique_ips.add(ip)\n",
    "\n",
    "\n",
    "print(unique_ips)"
   ]
  },
  {
   "cell_type": "markdown",
   "id": "eed70b44-df6e-41f4-8820-4ee3f3037ef9",
   "metadata": {},
   "source": [
    "#### 3. Policzenie liczby logowań (LOGIN) dla każdego użytkownika"
   ]
  },
  {
   "cell_type": "code",
   "execution_count": 3,
   "id": "62e81675-50ce-4ffe-bb23-37a06c97eb43",
   "metadata": {},
   "outputs": [
    {
     "name": "stdout",
     "output_type": "stream",
     "text": [
      "{'user123': 1, 'user456': 1}\n"
     ]
    }
   ],
   "source": [
    "login_counts = {}\n",
    "\n",
    "for line in lines:\n",
    "    date, ip, user, action = line.strip().split(\", \")\n",
    "    if action == \"LOGIN\":\n",
    "        if user not in login_counts:\n",
    "            login_counts[user] = 1\n",
    "        else:\n",
    "            login_counts[user] += 1\n",
    "\n",
    "\n",
    "print(login_counts)"
   ]
  },
  {
   "cell_type": "markdown",
   "id": "c5000f32-4bc5-41ce-ba88-f8446c4858b7",
   "metadata": {},
   "source": [
    "#### 4. Znalezienie wszystkich stron odwiedzanych przez użytkowników (akcje VIEW_PAGE)"
   ]
  },
  {
   "cell_type": "code",
   "execution_count": 4,
   "id": "ccda4fcd-5ca4-442e-8237-81566b148209",
   "metadata": {},
   "outputs": [
    {
     "name": "stdout",
     "output_type": "stream",
     "text": [
      "{'home', 'profile'}\n"
     ]
    }
   ],
   "source": [
    "pages = set()\n",
    "\n",
    "for line in lines:\n",
    "    date, ip, user, action = line.strip().split(\", \")\n",
    "    if \"VIEW_PAGE\" in action:\n",
    "        page = action.split(\":\")[1]\n",
    "        pages.add(page)\n",
    "\n",
    "\n",
    "print(pages)"
   ]
  },
  {
   "cell_type": "markdown",
   "id": "0e1006c9-3095-4045-883b-44fa2e3bf507",
   "metadata": {},
   "source": [
    "#### 5. Zidentyfikowanie użytkowników, którzy się wylogowali (LOGOUT)"
   ]
  },
  {
   "cell_type": "code",
   "execution_count": 5,
   "id": "ff906250-9e52-4697-b125-3d8bfe182185",
   "metadata": {},
   "outputs": [
    {
     "name": "stdout",
     "output_type": "stream",
     "text": [
      "['user456', 'user123']\n"
     ]
    }
   ],
   "source": [
    "last_action = {}\n",
    "\n",
    "for line in lines[::-1]:\n",
    "    date, ip, user, action = line.strip().split(\", \")\n",
    "    if user not in last_action and action in (\"LOGIN\", \"LOGOUT\"):\n",
    "        last_action[user] = action\n",
    "\n",
    "\n",
    "logout_users = [user for user, action in last_action.items() if action == \"LOGOUT\"]\n",
    "print(logout_users)"
   ]
  },
  {
   "cell_type": "markdown",
   "id": "4f7c4124-dfb8-46b8-b2b2-0fd4173aa74d",
   "metadata": {},
   "source": [
    "#### 6. Zapisanie wyników analizy do nowego pliku (user_analysis.txt)"
   ]
  },
  {
   "cell_type": "code",
   "execution_count": 7,
   "id": "0bd79082-a73b-4bdb-b7dd-69f1526735bd",
   "metadata": {},
   "outputs": [],
   "source": [
    "analysis_filename = 'audit_analysis.txt'\n",
    "\n",
    "with open(analysis_filename, 'w') as file:\n",
    "    file.write(\"User Logs Analysis Report\\n\")\n",
    "    file.write(\"=========================\\n\\n\")\n",
    "    \n",
    "    file.write(\"Unique IP addresses:\\n\")\n",
    "    for ip in unique_ips:\n",
    "        file.write(f\"{ip}\\n\")\n",
    "    \n",
    "    file.write(\"\\nLogin counts per user:\\n\")\n",
    "    for user, count in login_counts.items():\n",
    "        file.write(f\"{user}: {count}\\n\")\n",
    "    \n",
    "    file.write(\"\\nPage views:\\n\")\n",
    "    for page in pages:\n",
    "        file.write(f\"{page}\\n\")\n",
    "    \n",
    "    file.write(\"\\nUsers who logged out:\\n\")\n",
    "    for user in logout_users:\n",
    "        file.write(f\"{user}\\n\")"
   ]
  }
 ],
 "metadata": {
  "kernelspec": {
   "display_name": "Python 3 (ipykernel)",
   "language": "python",
   "name": "python3"
  },
  "language_info": {
   "codemirror_mode": {
    "name": "ipython",
    "version": 3
   },
   "file_extension": ".py",
   "mimetype": "text/x-python",
   "name": "python",
   "nbconvert_exporter": "python",
   "pygments_lexer": "ipython3",
   "version": "3.12.4"
  }
 },
 "nbformat": 4,
 "nbformat_minor": 5
}
