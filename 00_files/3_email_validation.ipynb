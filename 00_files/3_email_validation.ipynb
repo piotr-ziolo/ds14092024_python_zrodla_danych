{
 "cells": [
  {
   "cell_type": "markdown",
   "id": "0578822f-d318-412c-bced-7b1e16e173e4",
   "metadata": {},
   "source": [
    "#### Na czym polega przetwarzanie tekstu ? Jakie operacje są typowe dla przetwarzania tekstu?\n",
    "\n",
    "- filtrowanie,\n",
    "- zastępowanie,\n",
    "- usuwanie,\n",
    "- walidacja\n",
    "\n",
    "Wszystkie te operacje wymagają wyszukiwania w tekście jakiegoś wzorca (do przefitrowania/zmodyfikowania/usunięcia/...)."
   ]
  },
  {
   "cell_type": "markdown",
   "id": "d87a4b67-6057-49af-bc6f-8e911800f28c",
   "metadata": {},
   "source": [
    "*regex* (aka *regular expression*) to nic innego jak wzorzec w tekście. \n",
    "\n",
    "Po co używamy wzorców?\n",
    "* do wyszukiwania fragmentu danych/tekstu. Na przykład, możemy chcieć z długiego tekstu wybrać wyłącznie numery telefonów. \n",
    "* do dopasowywania fragmentu danych/tesktu. Na przykład, możemy chcieć zwalidować wprowadzony przez użytkownika mail. W tym celu można go zestawić z wzorcem reprezentującym prawidłowy mail.\n",
    "* do oczyszczanie danych/tekstu. Na przykład, możemy chcieć usunąć z tekstu wulgarne słowa."
   ]
  },
  {
   "cell_type": "markdown",
   "id": "29f55275-e927-43b6-b301-f38e30ac8af5",
   "metadata": {},
   "source": [
    "Załóżmy, że nie znamy regexów i chcemy zwalidować tekst, który dostaliśmy od użytkownika - sprawdzić czy jest to prawidłowy email."
   ]
  },
  {
   "cell_type": "code",
   "execution_count": 8,
   "id": "48f398db-064e-4325-b70e-fb9534ef08f7",
   "metadata": {},
   "outputs": [],
   "source": [
    "# Podaj email\n",
    "email = input(\"Podaj email: \")"
   ]
  },
  {
   "cell_type": "code",
   "execution_count": 11,
   "id": "8ee93832",
   "metadata": {},
   "outputs": [
    {
     "data": {
      "text/plain": [
       "'alamakota@en.com'"
      ]
     },
     "execution_count": 11,
     "metadata": {},
     "output_type": "execute_result"
    }
   ],
   "source": [
    "email"
   ]
  },
  {
   "cell_type": "code",
   "execution_count": 6,
   "id": "55a4d6b3-8e8b-4b29-88af-8efab2d4202e",
   "metadata": {},
   "outputs": [
    {
     "name": "stdout",
     "output_type": "stream",
     "text": [
      "Invalid\n"
     ]
    }
   ],
   "source": [
    "# Sprawdzamy obecność znaku `@`\n",
    "if '@' in email:\n",
    "    print(\"Valid\")\n",
    "else:\n",
    "    print(\"Invalid\")\n"
   ]
  },
  {
   "cell_type": "code",
   "execution_count": 5,
   "id": "5d334cf9-ce3a-413c-b6f3-3d40f6f833d0",
   "metadata": {},
   "outputs": [
    {
     "name": "stdout",
     "output_type": "stream",
     "text": [
      "Invalid\n"
     ]
    }
   ],
   "source": [
    "# Sprawdzamy obecność znaku `.`\n",
    "if '@' in email and '.' in email:\n",
    "    print(\"Valid\")\n",
    "else:\n",
    "    print(\"Invalid\")"
   ]
  },
  {
   "cell_type": "code",
   "execution_count": 9,
   "id": "da3be39c-7bc3-4c0c-bb3f-1b4a7fb17603",
   "metadata": {},
   "outputs": [
    {
     "name": "stdout",
     "output_type": "stream",
     "text": [
      "Valid\n"
     ]
    }
   ],
   "source": [
    "# '.@' - rozbudowujemy\n",
    "username, domain = email.split('@')\n",
    "\n",
    "if username and '.' in domain:\n",
    "    print(\"Valid\")\n",
    "else:\n",
    "    print(\"Invalid\")"
   ]
  },
  {
   "cell_type": "code",
   "execution_count": 10,
   "id": "27a22896-151e-41e9-804a-e9678d84411c",
   "metadata": {},
   "outputs": [
    {
     "name": "stdout",
     "output_type": "stream",
     "text": [
      "Valid\n"
     ]
    }
   ],
   "source": [
    "# subdomena `edu` lub `com`\n",
    "username, domain = email.split('@')\n",
    "\n",
    "if username and '.' in domain and domain.endswith(('.com', '.edu')):\n",
    "    print(\"Valid\")\n",
    "else:\n",
    "    print(\"Invalid\")"
   ]
  },
  {
   "cell_type": "markdown",
   "id": "a1260e0b-5ec3-470b-8f63-51bebbab323d",
   "metadata": {},
   "source": [
    "Oczywiście możemy dalej to rozwijać, ale liczba możliwych dróg bardzo szybko zacznie wybuchać (jeżeli ..., to jeżeli ..., to ...)."
   ]
  },
  {
   "cell_type": "markdown",
   "id": "dc477b33-8cf0-46e0-88e7-dff35a50b260",
   "metadata": {},
   "source": [
    "Wyrażenia regularne do pomocy."
   ]
  }
 ],
 "metadata": {
  "kernelspec": {
   "display_name": "base",
   "language": "python",
   "name": "python3"
  },
  "language_info": {
   "codemirror_mode": {
    "name": "ipython",
    "version": 3
   },
   "file_extension": ".py",
   "mimetype": "text/x-python",
   "name": "python",
   "nbconvert_exporter": "python",
   "pygments_lexer": "ipython3",
   "version": "3.11.9"
  }
 },
 "nbformat": 4,
 "nbformat_minor": 5
}
