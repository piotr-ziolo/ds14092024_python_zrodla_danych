{
 "cells": [
  {
   "cell_type": "markdown",
   "id": "92e35a48-19f2-46ed-8b41-47d153837bdb",
   "metadata": {},
   "source": [
    "### Zadanie - Liczenie słów w pliku tekstowym"
   ]
  },
  {
   "cell_type": "markdown",
   "id": "d742fbbb-db34-4105-a25e-f3ef6c6ef29e",
   "metadata": {},
   "source": [
    "Plik tekstowy `text.txt` zawiera tekst z polskimi znakami diakrytycznymi. Plik ten jest zapisany w kodowaniu UTF-8. Twoim zadaniem jest napisać skrypt w Pythonie, który otworzy ten plik, odczyta jego zawartość, policzy liczbę słów w pliku, a następnie wyświetli tę liczbę.\n",
    "\n",
    "Rozwiązanie:\n",
    "\n",
    "A. Użyj funkcji open, aby otworzyć plik w trybie do odczytu. \\\n",
    "B. Upewnij się, że podasz odpowiednie kodowanie (utf-8). \\\n",
    "C. Odczytaj zawartość pliku za pomocą metody read. \\\n",
    "D. Policz słowa w odczytanym tekście. \\\n",
    "E. Wyświetl liczbę słów. \\\n",
    "F. Zapisz otrzymany wynik do pliku `result.txt`"
   ]
  },
  {
   "cell_type": "code",
   "execution_count": 9,
   "id": "844ae881-46fa-4f54-b7bd-68ea01b71e90",
   "metadata": {},
   "outputs": [
    {
     "name": "stdout",
     "output_type": "stream",
     "text": [
      "To jest przykładowy plik tekstowy.\n",
      "Zawiera kilka wierszy tekstu.\n",
      "Każdy wiersz może mieć różną długość.\n",
      "Liczba słów w pliku: 15\n"
     ]
    }
   ],
   "source": [
    "# Rozwiązanie\n",
    "with open(\"text.txt\", \"r\", encoding='utf-8') as file:\n",
    "    content = file.read()\n",
    "\n",
    "print(content)\n",
    "\n",
    "no_of_words = len(content.split())\n",
    "print(f\"Liczba słów w pliku: {no_of_words}\")\n",
    "\n",
    "with open(\"result.txt\", \"w\", encoding='utf-8') as file:\n",
    "    file.write(f\"Liczba słów w pliku: {no_of_words}\")"
   ]
  }
 ],
 "metadata": {
  "kernelspec": {
   "display_name": "base",
   "language": "python",
   "name": "python3"
  },
  "language_info": {
   "codemirror_mode": {
    "name": "ipython",
    "version": 3
   },
   "file_extension": ".py",
   "mimetype": "text/x-python",
   "name": "python",
   "nbconvert_exporter": "python",
   "pygments_lexer": "ipython3",
   "version": "3.11.9"
  }
 },
 "nbformat": 4,
 "nbformat_minor": 5
}
