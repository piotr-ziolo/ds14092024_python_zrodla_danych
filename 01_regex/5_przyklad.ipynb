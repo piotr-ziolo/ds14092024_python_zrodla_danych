{
 "cells": [
  {
   "cell_type": "markdown",
   "id": "616d74fa-207e-4156-81ea-750b1f46d383",
   "metadata": {},
   "source": [
    "### Przykład IV: Praca z plikiem HTML\n",
    "\n",
    "#### Opis:\n",
    "Plik `strona.html` zawiera kod prostej strony internetowej. Twoim zadaniem jest napisać skrypt w Pythonie, który wykona różne operacje na zawartości pliku HTML za pomocą wyrażeń regularnych (regex):\n",
    "\n",
    "1. Znajdź wszystkie tytuły strony\n",
    "2. Znajdź wszystkie nagłówki H1\n",
    "3. Znajdź wszystkie linki (adresy URL)\n",
    "4. Znajdź wszystkie adresy e-mail\n",
    "5. Znajdź wszystkie paragrafy"
   ]
  },
  {
   "cell_type": "code",
   "execution_count": 1,
   "id": "42ffb29b-36cb-4a58-8605-bf4bb7d20e37",
   "metadata": {},
   "outputs": [
    {
     "name": "stdout",
     "output_type": "stream",
     "text": [
      "<!DOCTYPE html>\n",
      "<html lang=\"pl\">\n",
      "<head>\n",
      "    <meta charset=\"UTF-8\">\n",
      "    <title>Przykładowa strona</title>\n",
      "</head>\n",
      "<body>\n",
      "    <h1>Witaj na mojej stronie!</h1>\n",
      "    <p>Oto kilka linków:</p>\n",
      "    <a href=\"https://www.przyklad1.com\">Link 1</a>\n",
      "    <a href=\"https://www.przyklad2.com\">Link 2</a>\n",
      "    <a href=\"https://www.przyklad3.com\">Link 3</a>\n",
      "    <a href=\"mailto:kontakt@przyklad4.com\">Email</a>\n",
      "</body>\n",
      "</html>\n",
      "\n"
     ]
    }
   ],
   "source": [
    "with open('strona.html', encoding='utf-8') as f:\n",
    "    content = f.read()\n",
    "\n",
    "print(content)"
   ]
  },
  {
   "cell_type": "markdown",
   "id": "00b70bcd-2a5a-4fb4-b56d-3ab5cdf93b91",
   "metadata": {},
   "source": [
    "#### 1. Znalezienie wszystkich tytułów strony"
   ]
  },
  {
   "cell_type": "code",
   "execution_count": 10,
   "id": "065c20c8-39c9-4dfe-a1ac-bc6fd2d3d2e6",
   "metadata": {},
   "outputs": [
    {
     "data": {
      "text/plain": [
       "['Przykładowa strona']"
      ]
     },
     "execution_count": 10,
     "metadata": {},
     "output_type": "execute_result"
    }
   ],
   "source": [
    "import re\n",
    "\n",
    "title_pattern = r'<title>(.*)</title>'\n",
    "\n",
    "result = re.findall(title_pattern, content)\n",
    "result"
   ]
  },
  {
   "cell_type": "markdown",
   "id": "91048cb2-76eb-4523-82ef-e4973922dbd3",
   "metadata": {},
   "source": [
    "#### 2: Znalezienie wszystkich nagłówków H1"
   ]
  },
  {
   "cell_type": "code",
   "execution_count": 12,
   "id": "052ea68e-bc0b-4b15-be57-315290c7539e",
   "metadata": {},
   "outputs": [
    {
     "data": {
      "text/plain": [
       "['Witaj na mojej stronie!']"
      ]
     },
     "execution_count": 12,
     "metadata": {},
     "output_type": "execute_result"
    }
   ],
   "source": [
    "h1_pattern = r'<h1>(.*)</h1>'\n",
    "\n",
    "result = re.findall(h1_pattern, content)\n",
    "result"
   ]
  },
  {
   "cell_type": "markdown",
   "id": "e63f68d9-19c9-46fd-adaf-20fdebd0b714",
   "metadata": {},
   "source": [
    "#### 3: Znalezienie wszystkich linków (adresów URL)"
   ]
  },
  {
   "cell_type": "code",
   "execution_count": 16,
   "id": "5c784069-a106-4f24-8a6f-51155d56f705",
   "metadata": {},
   "outputs": [
    {
     "data": {
      "text/plain": [
       "['https://www.przyklad1.com',\n",
       " 'https://www.przyklad2.com',\n",
       " 'https://www.przyklad3.com']"
      ]
     },
     "execution_count": 16,
     "metadata": {},
     "output_type": "execute_result"
    }
   ],
   "source": [
    "url_pattern = r'href=\"(http.*)\">'\n",
    "\n",
    "result = re.findall(url_pattern, content)\n",
    "result"
   ]
  },
  {
   "cell_type": "markdown",
   "id": "9cda4222-cb42-44ea-b8d7-969d55d39eec",
   "metadata": {},
   "source": [
    "#### 4: Znalezienie wszystkich adresów e-mail"
   ]
  },
  {
   "cell_type": "code",
   "execution_count": 17,
   "id": "559908de-7b85-44c8-bbde-34241e4abd25",
   "metadata": {},
   "outputs": [
    {
     "data": {
      "text/plain": [
       "['kontakt@przyklad4.com']"
      ]
     },
     "execution_count": 17,
     "metadata": {},
     "output_type": "execute_result"
    }
   ],
   "source": [
    "mail_pattern = r'href=\"mailto:(.*)\">'\n",
    "\n",
    "result = re.findall(mail_pattern, content)\n",
    "result"
   ]
  },
  {
   "cell_type": "markdown",
   "id": "4572c822-e875-44cc-bcd7-67b5e6c6dce3",
   "metadata": {},
   "source": [
    "#### 5: Znalezienie wszystkich paragrafów"
   ]
  },
  {
   "cell_type": "code",
   "execution_count": 18,
   "id": "b49c88a3-9d33-41aa-b7ec-1a15a313d5d7",
   "metadata": {},
   "outputs": [
    {
     "data": {
      "text/plain": [
       "['Oto kilka linków:']"
      ]
     },
     "execution_count": 18,
     "metadata": {},
     "output_type": "execute_result"
    }
   ],
   "source": [
    "p_pattern = r'<p>(.*)</p>'\n",
    "\n",
    "result = re.findall(p_pattern, content)\n",
    "result"
   ]
  }
 ],
 "metadata": {
  "kernelspec": {
   "display_name": "base",
   "language": "python",
   "name": "python3"
  },
  "language_info": {
   "codemirror_mode": {
    "name": "ipython",
    "version": 3
   },
   "file_extension": ".py",
   "mimetype": "text/x-python",
   "name": "python",
   "nbconvert_exporter": "python",
   "pygments_lexer": "ipython3",
   "version": "3.11.9"
  }
 },
 "nbformat": 4,
 "nbformat_minor": 5
}
