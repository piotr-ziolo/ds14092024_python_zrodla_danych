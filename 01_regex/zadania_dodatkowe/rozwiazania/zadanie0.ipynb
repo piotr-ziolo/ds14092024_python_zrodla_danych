{
 "cells": [
  {
   "cell_type": "markdown",
   "id": "c3c58394-b10c-45f0-8fd4-f483f996907e",
   "metadata": {},
   "source": [
    "### Ćwiczenie praktyczne 0\n",
    "\n",
    "**Cel**: \\\n",
    "Utrwalenie wiedzy poprzez praktyczne zastosowanie podstawowych metaznaków wyrażeń regularnych.\n",
    "\n",
    "**Działania**: \\\n",
    "Zadania rozwiązujemy na platformie [regex101](https://regex101.com/). Przeklej poniższy tekst do pola 'TEST STRING'. Następnie przepisz wyrażenie regularne do pola 'REGULAR EXPRESSION'. Analizuj otrzymywane wyniki. Czy są zgodne z Twoimi oczekiwaniami?"
   ]
  },
  {
   "cell_type": "raw",
   "id": "03c6dca4-7dee-4b8a-8c92-665185d3068f",
   "metadata": {},
   "source": [
    "W małym miasteczku o nazwie Żółtańce, mieszkał człowiek o imieniu Krzysztof. Był to bardzo ciekawy człowiek, który pasjonował się historią i sztuką. Krzysztof często odwiedzał lokalne muzeum, gdzie podziwiał obrazy znanych malarzy, takich jak Jan Matejko i Stanisław Wyspiański.\n",
    "\n",
    "Pewnego dnia Krzysztof postanowił napisać książkę (o historii swojego miasta). Spędził wiele godzin w bibliotece, przeszukując stare dokumenty i kroniki. Wśród nich znalazł wiele interesujących faktów, na przykład o słynnej bitwie pod Żółtańcami w 1655 roku.\n",
    "\n",
    "Żółtańce to również miejsce znane z pięknych krajobrazów. Wokół miasteczka rozciągają się malownicze pola i lasy o nazwie Zagaju, które przyciągają wielu turystów. W pobliskiej rzece, nazywanej Czarna, mieszkańcy często łowili ryby i organizowali pikniki.\n",
    "\n",
    "Mieszkańcy Żółtańców są bardzo gościnni. Każdego roku organizują festiwal (folklorystyczny), na którym można podziwiać tradycyjne tańce i posmakować lokalnych potraw. Krzysztof zawsze brał udział w tym wydarzeniu, często występując w roli przewodnika dla turystów.\n",
    "\n",
    "Żółtańce to miejsce, które Krzysztof kochał i które zawsze będzie miało specjalne miejsce w jego sercu."
   ]
  },
  {
   "cell_type": "markdown",
   "id": "d22d46eb-ffe1-412b-8fe3-fa3d4d11f40a",
   "metadata": {},
   "source": [
    "#### 1. `.` - dowolny znak\n",
    "\n",
    "**Wyrażenie regularne**: `Krzyszto.` \\\n",
    "**Instrukcja**: Wprowadź powyższe wyrażenie regularne na platformie regex101 i sprawdź, czy poprawnie identyfikuje \"Krzysztof\" w podanym tekście."
   ]
  },
  {
   "cell_type": "markdown",
   "id": "56a4797d-563b-4f3c-a8b9-9d4a663ce4ff",
   "metadata": {},
   "source": [
    "#### 2. `[]` - klasa znaków\n",
    "\n",
    "**Wyrażenie regularne**: `[Żż]ółtańce` \\\n",
    "**Instrukcja**: Wprowadź powyższe wyrażenie regularne na platformie regex101 i sprawdź, czy poprawnie identyfikuje \"Żółtańce\" w podanym tekście."
   ]
  },
  {
   "cell_type": "markdown",
   "id": "97efdcdd-d1b9-47c6-b4d3-5b15dc4f48e0",
   "metadata": {},
   "source": [
    "#### 3. `[^]` - negacja klasy znaków\n",
    "\n",
    "**Wyrażenie regularne**: `[^a-zA-ZąęćłńóśźżĄĘĆŁŃÓŚŹŻ\\s]` \\\n",
    "**Instrukcja**: Wprowadź powyższe wyrażenie regularne na platformie regex101 i sprawdź, czy poprawnie identyfikuje wszystkie znaki niealfabetyczne w podanym tekście."
   ]
  },
  {
   "cell_type": "markdown",
   "id": "d5819393-c8d6-4c1c-9c2d-15663d02bbe0",
   "metadata": {},
   "source": [
    "#### 4. `*` - zero lub więcej wystąpień\n",
    "\n",
    "**Wyrażenie regularne**: `K.*` \\\n",
    "**Instrukcja**: Wprowadź powyższe wyrażenie regularne na platformie regex101 i sprawdź, czy poprawnie identyfikuje wszystkie frazy rozpoczynające się od litery K dopasowując wszystko aż do końca linii (znaku nowej linii)."
   ]
  },
  {
   "cell_type": "markdown",
   "id": "61403653-dc90-4382-89e4-11469e6acb03",
   "metadata": {},
   "source": [
    "#### 5. `{}` - dokładna liczba wystąpień\n",
    "\n",
    "**Wyrażenie regularne**: `\\d{4}` \\\n",
    "**Instrukcja**: Wprowadź powyższe wyrażenie regularne na platformie regex101 i sprawdź, czy poprawnie identyfikuje wszystkie czterocyfrowe sekwencje w podanym tekście."
   ]
  },
  {
   "cell_type": "markdown",
   "id": "e8a20402-6d5e-47f9-bd6f-7160b0a6bdc0",
   "metadata": {},
   "source": [
    "#### 6. `^` - początek linii\n",
    "\n",
    "**Wyrażenie regularne**: `^W` \\\n",
    "**Instrukcja**: Wprowadź powyższe wyrażenie regularne na platformie regex101 i sprawdź, czy poprawnie identyfikuje linię zaczynającą się od \"W\" w podanym tekście."
   ]
  },
  {
   "cell_type": "markdown",
   "id": "a2451026-fec2-4e8e-a4dd-6018475f41bc",
   "metadata": {},
   "source": [
    "#### 7. `$` - koniec linii\n",
    "\n",
    "**Wyrażenie regularne**: `sercu.$` \\\n",
    "**Instrukcja**: Wprowadź powyższe wyrażenie regularne na platformie regex101 i sprawdź, czy poprawnie identyfikuje linię kończącą się na \"sercu.\" w podanym tekście."
   ]
  },
  {
   "cell_type": "markdown",
   "id": "10483dc9-c1e8-4ed1-9b7a-dade74b60431",
   "metadata": {},
   "source": [
    "#### 8. `+` - jedno lub więcej wystąpień\n",
    "\n",
    "**Wyrażenie regularne**: `\\d+` \\\n",
    "**Instrukcja**: Wprowadź powyższe wyrażenie regularne na platformie regex101 i sprawdź, czy poprawnie identyfikuje wszystkie sekwencje cyfr w podanym tekście."
   ]
  },
  {
   "cell_type": "markdown",
   "id": "7641680d-1ce2-4d25-9514-2654f7f3f5d5",
   "metadata": {},
   "source": [
    "#### 9. `?` - zero lub jedno wystąpienie\n",
    "\n",
    "**Wyrażenie regularne**: `którym?` \\\n",
    "**Instrukcja**: Wprowadź powyższe wyrażenie regularne na platformie regex101 i sprawdź, czy poprawnie identyfikuje \"którym\" i \"który\" w podanym tekście."
   ]
  },
  {
   "cell_type": "markdown",
   "id": "b2a0cb40-b39f-45aa-9db2-8827a52b8b11",
   "metadata": {},
   "source": [
    "#### 10. `()` - grupowanie znaków\n",
    "\n",
    "**Wyrażenie regularne**: `(Krzysztof|Żółtańce)` \\\n",
    "**Instrukcja**: Wprowadź powyższe wyrażenie regularne na platformie regex101 i sprawdź, czy poprawnie identyfikuje \"Krzysztof\" i \"Żółtańce\" w podanym tekście."
   ]
  },
  {
   "cell_type": "markdown",
   "id": "79e6c7df-3ece-43ba-a677-652fe5d91afe",
   "metadata": {},
   "source": [
    "#### 11. `\\` - ucieczka znaków specjalnych\n",
    "\n",
    "**Wyrażenie regularne**: `\\(.*?\\)` \\\n",
    "**Instrukcja**: Wprowadź powyższe wyrażenie regularne na platformie regex101 i sprawdź, czy poprawnie identyfikuje wszystkie wystąpienia znaków w nawiasach okrągłych.\n",
    "\n",
    "**Hints**: \n",
    "1. Pamiętaj, że metaznak `.` nie dopasowuje znaku nowej linii, dlatego dopasowanie może wystąpić wyłącznie w ramach jednej linii\n",
    "2. metaznak `?` po metaznaku `*` zmienia jego działanie z zachłannego na leniwy. "
   ]
  },
  {
   "cell_type": "markdown",
   "id": "146fa160-a40d-4ddb-bf26-18e31f673a72",
   "metadata": {},
   "source": [
    "#### 12. `[-]` - zakres znaków\n",
    "\n",
    "**Wyrażenie regularne**: `[a-żA-Ż]` \\\n",
    "**Instrukcja**: Wprowadź powyższe wyrażenie regularne na platformie regex101 i sprawdź, czy poprawnie identyfikuje wszystkie litery w podanym tekście."
   ]
  },
  {
   "cell_type": "markdown",
   "id": "e9d6fbbd-631d-45c4-b3d7-52508f52f055",
   "metadata": {},
   "source": [
    "#### 13. `[]` - klasa znaków\n",
    "\n",
    "**Wyrażenie regularne**: `[ąęćłńóśźżĄĘĆŁŃÓŚŹŻ]` \\\n",
    "**Instrukcja**: Wprowadź powyższe wyrażenie regularne na platformie regex101 i sprawdź, czy poprawnie identyfikuje wszystkie polskie znaki diakrytyczne w podanym tekście."
   ]
  },
  {
   "cell_type": "markdown",
   "id": "65e789d2-00ff-4c98-9cde-6d9a99b4a6d5",
   "metadata": {},
   "source": [
    "#### 14. `[^-]` - negacja zakresu\n",
    "\n",
    "**Wyrażenie regularne**: `[^a-żA-Ż\\s]` \\\n",
    "**Instrukcja**: Wprowadź powyższe wyrażenie regularne na platformie regex101 i sprawdź, czy poprawnie identyfikuje wszystkie znaki, które nie są literami ani spacjami w podanym tekście."
   ]
  },
  {
   "cell_type": "markdown",
   "id": "90b7d09e-71a3-4399-9877-86b2be625e37",
   "metadata": {},
   "source": [
    "#### 15. `[^]` - negacja klasy znaków\n",
    "\n",
    "**Wyrażenie regularne**: `[^ąęćłńóśźżĄĘĆŁŃÓŚŹŻ]` \\\n",
    "**Instrukcja**: Wprowadź powyższe wyrażenie regularne na platformie regex101 i sprawdź, czy poprawnie identyfikuje wszystkie znaki, które nie są polskimi znakami diakrytycznymi w podanym tekście."
   ]
  },
  {
   "cell_type": "markdown",
   "id": "f76ede56-6cce-48bc-9961-ecdbb21891e8",
   "metadata": {},
   "source": [
    "#### 16. `()` - zagnieżdżanie grup\n",
    "\n",
    "**Wyrażenie regularne**: `((lasy|miasteczku) o nazwie)` \\\n",
    "**Instrukcja**: Wprowadź powyższe wyrażenie regularne na platformie regex101 i sprawdź, czy poprawnie identyfikuje \"miasteczku o nazwie\" i \"lasy o nazwie\" w podanym tekście."
   ]
  },
  {
   "cell_type": "markdown",
   "id": "880673ac-3125-46cc-8215-710e2242565c",
   "metadata": {},
   "source": [
    "#### 17. `|` - alternatywne opcje\n",
    "\n",
    "**Wyrażenie regularne**: `Żółtańce|Krzysztof` \\\n",
    "**Instrukcja**: Wprowadź powyższe wyrażenie regularne na platformie regex101 i sprawdź, czy poprawnie identyfikuje \"Żółtańce\" i \"Krzysztof\" w podanym tekście."
   ]
  },
  {
   "cell_type": "markdown",
   "id": "4d5989b6-34f1-4446-bb53-6cb83ceb72ee",
   "metadata": {},
   "source": [
    "#### 18. `{min,max}` - zakres liczby wystąpień\n",
    "\n",
    "**Wyrażenie regularne**: `\\d{1,3}` \\\n",
    "**Instrukcja**: Wprowadź powyższe wyrażenie regularne na platformie regex101 i sprawdź, czy poprawnie identyfikuje wszystkie liczby o długości od 1 do 3 cyfr w podanym tekście.\n",
    "**Hint**: Domyślnie wyrażenia regularne nie wyszukują nakładających się dopasowań. Po znalezieniu dopasowania kursor ustawiany jest za tym dopasowaniem i silnik wyrażeń regularnych dalsze wyszukiwanie rozpoczyna od miejsca, w którym znajduje się kursor (nakładające się dopasowania można otrzymać za pomocą lookahead, ponieważ lookahead nie przesuwa kursora)."
   ]
  },
  {
   "cell_type": "markdown",
   "id": "4c6c8f8c-a6b9-42ff-9c7e-22734e0ca7d0",
   "metadata": {},
   "source": [
    "#### 19. `\\b` - granica słowa\n",
    "\n",
    "**Wyrażenie regularne**: `\\bKrzysztof\\b` \\\n",
    "**Instrukcja**: Wprowadź powyższe wyrażenie regularne na platformie regex101 i sprawdź, czy poprawnie identyfikuje \"Krzysztof\" jako całe słowo w podanym tekście."
   ]
  },
  {
   "cell_type": "markdown",
   "id": "f7eaee98-ba4c-4797-b2a7-a63e6b7beb01",
   "metadata": {},
   "source": [
    "#### 20. `\\d` - cyfry\n",
    "\n",
    "**Wyrażenie regularne**: `\\d` \\\n",
    "**Instrukcja**: Wprowadź powyższe wyrażenie regularne na platformie regex101 i sprawdź, czy poprawnie identyfikuje wszystkie cyfry w podanym tekście."
   ]
  }
 ],
 "metadata": {
  "kernelspec": {
   "display_name": "Python 3 (ipykernel)",
   "language": "python",
   "name": "python3"
  },
  "language_info": {
   "codemirror_mode": {
    "name": "ipython",
    "version": 3
   },
   "file_extension": ".py",
   "mimetype": "text/x-python",
   "name": "python",
   "nbconvert_exporter": "python",
   "pygments_lexer": "ipython3",
   "version": "3.12.4"
  }
 },
 "nbformat": 4,
 "nbformat_minor": 5
}
