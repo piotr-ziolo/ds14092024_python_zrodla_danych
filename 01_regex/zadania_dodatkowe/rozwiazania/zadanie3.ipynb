{
 "cells": [
  {
   "cell_type": "markdown",
   "id": "13b5d145-cc9f-472a-b936-fc5b3caf5cbf",
   "metadata": {},
   "source": [
    "### Ćwiczenie praktyczne III\n",
    "\n",
    "**Cel**: \\\n",
    "Utrwalenie wiedzy poprzez praktyczne zastosowanie podstawowych metaznaków wyrażeń regularnych.\n",
    "\n",
    "**Działania**: \\\n",
    "Zadania rozwiązujemy na platformie [regex101](https://regex101.com/). Przeklej poniższy tekst do pola 'TEST STRING'. Następnie przepisz wyrażenie regularne do pola 'REGULAR EXPRESSION'. Analizuj otrzymywane wyniki. Czy są zgodne z Twoimi oczekiwaniami?"
   ]
  },
  {
   "cell_type": "raw",
   "id": "163c22a5-51dc-4a76-b2ac-e1a559c39878",
   "metadata": {},
   "source": [
    "Data odczytu: 2024-01-15 12:30:45. \n",
    "Sensor1: 23.5°C, Sensor2: 19.8°C, Sensor3: 25.1°C\n",
    "Wilgotność: 45%\n",
    "Adres serwera: 192.168.1.100\n",
    "Czas odpowiedzi: 150ms\n",
    "Próbka 001: 120.45\n",
    "Próbka 002: 115.38\n",
    "Próbka 003: 123.77\n",
    "Data następnego odczytu: 2024-01-16 12:30:45"
   ]
  },
  {
   "cell_type": "markdown",
   "id": "13d68f08-ac9d-48f7-baae-50efb0e0d02e",
   "metadata": {},
   "source": [
    "#### 1. Znajdź wszystkie kropki w tekście\n",
    "\n",
    "Rozwiązanie: `\\.`"
   ]
  },
  {
   "cell_type": "markdown",
   "id": "e59a2788-b35e-4047-8e7f-6bbc859faf51",
   "metadata": {},
   "source": [
    "#### 2. Znajdź wszystkie cyfry\n",
    "\n",
    "Rozwiązanie: `\\d`"
   ]
  },
  {
   "cell_type": "markdown",
   "id": "b4c0a614-dbcf-4b5d-937f-a6c1b1e11e8f",
   "metadata": {},
   "source": [
    "#### 3. Znajdź wszystkie ciągi czterech cyfr (rok)\n",
    "\n",
    "Rozwiązanie: `\\b\\d{4}\\b`"
   ]
  },
  {
   "cell_type": "markdown",
   "id": "65e1cc61-e913-4176-8b52-537350aad1f5",
   "metadata": {},
   "source": [
    "#### 4. Znajdź wszystkie temperatury w stopniach Celsjusza\n",
    "\n",
    "Rozwiązanie: `\\d+\\.\\d°C`"
   ]
  },
  {
   "cell_type": "markdown",
   "id": "d981a65b-4be3-4ae3-9fa2-fc8ef645d212",
   "metadata": {},
   "source": [
    "#### 5. Znajdź wszystkie wartości wilgotności\n",
    "\n",
    "Rozwiązanie: `\\d+%`"
   ]
  },
  {
   "cell_type": "markdown",
   "id": "4afcad33-1922-4a05-b14f-d497a9f921f3",
   "metadata": {},
   "source": [
    "#### 6. Znajdź wszystkie adresy IP\n",
    "\n",
    "Rozwiązanie: `\\b\\d{1,3}\\.\\d{1,3}\\.\\d{1,3}\\.\\d{1,3}\\b`"
   ]
  },
  {
   "cell_type": "markdown",
   "id": "b33d23fb-c3ef-4383-966c-ad6f97d19a2f",
   "metadata": {},
   "source": [
    "#### 7. Znajdź wszystkie czasy odpowiedzi w milisekundach\n",
    "\n",
    "Rozwiązanie: `\\d+ms`"
   ]
  },
  {
   "cell_type": "markdown",
   "id": "664a0acf-a7bf-425c-9b2d-6c011bc00a5e",
   "metadata": {},
   "source": [
    "#### 8. Znajdź wszystkie wartości próbek (trzy liczby, kropką, dwie liczby)\n",
    "\n",
    "Rozwiązanie: `\\b\\d{3}\\.\\d{2}\\b`"
   ]
  },
  {
   "cell_type": "markdown",
   "id": "fcf9437b-063f-43bc-925e-2403bbb77f90",
   "metadata": {},
   "source": [
    "#### 9. Znajdź wszystkie daty w formacie YYYY-MM-DD\n",
    "\n",
    "Rozwiązanie: `\\d{4}-\\d{2}-\\d{2}`"
   ]
  },
  {
   "cell_type": "markdown",
   "id": "c424696a-373a-4db1-bf33-98df0f0d1b24",
   "metadata": {},
   "source": [
    "#### 10. Znajdź wszystkie czasy w formacie HH:MM\n",
    "\n",
    "Rozwiązanie: `\\d{2}:\\d{2}:\\d{2}`"
   ]
  },
  {
   "cell_type": "markdown",
   "id": "91128443-3639-4a74-a3d5-85dd84571dc7",
   "metadata": {},
   "source": [
    "#### 11. Znajdź wszystkie linie zaczynające się od \"Data\"\n",
    "\n",
    "Rozwiązanie: `^Data.*`"
   ]
  },
  {
   "cell_type": "markdown",
   "id": "1d78de2a-8890-4031-8ae1-9edc4a06a85c",
   "metadata": {},
   "source": [
    "#### 12. Znajdź wszystkie linie kończące się na cyfrę\n",
    "\n",
    "Rozwiązanie: `.*\\d$`"
   ]
  },
  {
   "cell_type": "markdown",
   "id": "8ad8e1e9-b9ef-45cc-94b8-130e1fe8e52a",
   "metadata": {},
   "source": [
    "#### 13. Znajdź wszystkie wyrażenia zawierające literę \"S\"\n",
    "\n",
    "Rozwiązanie: `\\w*S\\w*`"
   ]
  },
  {
   "cell_type": "markdown",
   "id": "11341def-cfaf-49fe-a66a-b34079ad892f",
   "metadata": {},
   "source": [
    "#### 14. Znajdź wszystkie wartości Sensorów (napisy postaci Sensor1: 23.5°C)\n",
    "\n",
    "Rozwiązanie: `Sensor\\d: \\d+\\.\\d°C`"
   ]
  },
  {
   "cell_type": "markdown",
   "id": "9589682f-84d8-43c1-b910-96cbb7487509",
   "metadata": {},
   "source": [
    "#### 15. Znajdź wszystkie wyrażenia zawierające dwukropek\n",
    "\n",
    "Rozwiązanie: `\\w*:\\w*`"
   ]
  },
  {
   "cell_type": "markdown",
   "id": "b3e7b00f-5313-4ac1-bfe5-80b735db235f",
   "metadata": {},
   "source": [
    "#### 16. Znajdź wszystkie wartości godzin późniejsze niż 11:59:59\n",
    "\n",
    "Rozwiązanie: `(?:1[2-9]|2[0-3]):[0-5][0-9]:[0-5][0-9]`\n",
    "\n",
    "Hint: W rozwiązaniu użyto non-capturing group (?:, bo ta grupa nie jest nam do niczego potrzebna "
   ]
  },
  {
   "cell_type": "markdown",
   "id": "7988d90f-995e-47ec-af4e-a3f316cdf328",
   "metadata": {},
   "source": [
    "#### 17. Znajdź wszystkie wartości odpowiadające czasowi w milisekundach większe niż 100\n",
    "\n",
    "Rozwiązanie: `\\b(1[0-9]{2}|[2-9][0-9]{2,})ms`"
   ]
  },
  {
   "cell_type": "markdown",
   "id": "f5f4a698-727b-4d9c-937b-e0749e345353",
   "metadata": {},
   "source": [
    "#### 18. Znajdź wszystkie słowa zaczynające się od litery \"W\"\n",
    "\n",
    "Rozwiązanie: `\\bW[A-ża-ż]*`"
   ]
  },
  {
   "cell_type": "markdown",
   "id": "54ab7575-c5e9-409f-95a6-d50c7ddd2e61",
   "metadata": {},
   "source": [
    "#### 19. Znajdź wszystkie wartości, które nie są liczbami i pustymi znakami \n",
    "\n",
    "Rozwiązanie: `[^\\d\\s\\.,:]+`"
   ]
  }
 ],
 "metadata": {
  "kernelspec": {
   "display_name": "Python 3 (ipykernel)",
   "language": "python",
   "name": "python3"
  },
  "language_info": {
   "codemirror_mode": {
    "name": "ipython",
    "version": 3
   },
   "file_extension": ".py",
   "mimetype": "text/x-python",
   "name": "python",
   "nbconvert_exporter": "python",
   "pygments_lexer": "ipython3",
   "version": "3.12.4"
  }
 },
 "nbformat": 4,
 "nbformat_minor": 5
}
