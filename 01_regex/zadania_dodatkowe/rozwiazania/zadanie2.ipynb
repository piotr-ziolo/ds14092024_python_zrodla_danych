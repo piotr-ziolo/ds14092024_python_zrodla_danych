{
 "cells": [
  {
   "cell_type": "markdown",
   "id": "287b6025-987d-4cea-aabc-8ab34c96f91f",
   "metadata": {},
   "source": [
    "### Ćwiczenie praktyczne II\n",
    "\n",
    "**Cel**: \\\n",
    "Utrwalenie wiedzy poprzez praktyczne zastosowanie podstawowych metaznaków wyrażeń regularnych.\n",
    "\n",
    "**Działania**: \\\n",
    "Zadania rozwiązujemy na platformie [regex101](https://regex101.com/). Przeklej poniższy tekst do pola 'TEST STRING'. Następnie przepisz wyrażenie regularne do pola 'REGULAR EXPRESSION'. Analizuj otrzymywane wyniki. Czy są zgodne z Twoimi oczekiwaniami?"
   ]
  },
  {
   "cell_type": "markdown",
   "id": "1470d2b6-99d5-4c94-93c1-395ca7867922",
   "metadata": {},
   "source": [
    "#### Tekst do analizy"
   ]
  },
  {
   "cell_type": "raw",
   "id": "545845f5-0613-4432-a6de-334c8afa54c5",
   "metadata": {},
   "source": [
    "Jola ma kota i dwa psy. Kot ma 3 lata, a psy mają po 5 lat. Jola mieszka na ul. Słonecznej 45, a jej numer telefonu to 555-123-456. Ostatnio kupiła 5 książek za 99.99 PLN każda. W 2023 roku zamierza kupić samochód za 30,000 PLN. Jej email to jola@example.com. W pracy używa adresu służbowego jola.kowalska@firma.com. Zawsze używa hasła: P@ssw0rd!. Na wakacje leci do Nowego Jorku, a stamtąd do Los Angeles. 128.143.043.211 to jej numer IP."
   ]
  },
  {
   "cell_type": "markdown",
   "id": "14664176-da2b-471a-a7fc-cd68426cefda",
   "metadata": {},
   "source": [
    "#### 1. Znajdź wszystkie kropki w tekście\n",
    "\n",
    "Rozwiązanie: `\\.`"
   ]
  },
  {
   "cell_type": "markdown",
   "id": "7c048d45-0ef4-49f3-a2a6-f01beb47d735",
   "metadata": {},
   "source": [
    "#### 2. Znajdź wszystkie liczby jednocyfrowe\n",
    "\n",
    "Rozwiązanie: `\\b\\d\\b`\n",
    "\n",
    "Hint: tutaj należy użyć metaznaku końca słowa, żeby złapać tylko liczby jednocyfrowe, a nie cyfry składowe liczby na przykład 3-cyfrowej)."
   ]
  },
  {
   "cell_type": "markdown",
   "id": "49abd953-934a-40a1-af06-18617bcb7ee1",
   "metadata": {},
   "source": [
    "#### 3. Znajdź wszystkie liczby dwucyfrowe \n",
    "\n",
    "Rozwiązanie: `\\b\\d{2}\\b`\n",
    "\n",
    "Hint: analogicznie jak w poprzednim punkcie"
   ]
  },
  {
   "cell_type": "markdown",
   "id": "1ad6aa65-7cba-4481-90d7-cf8e812bd72a",
   "metadata": {},
   "source": [
    "#### 4. Znajdź wszystkie liczby trzycyfrowe lub dłuższe\n",
    "\n",
    "Rozwiązanie: `\\b\\d{3,}\\b`\n",
    "\n",
    "Hint: analogicznie jak w poprzednim punkcie"
   ]
  },
  {
   "cell_type": "markdown",
   "id": "1ef00ea8-7dab-4609-bdb4-13d3cf4411cf",
   "metadata": {},
   "source": [
    "#### 5. Znajdź wszystkie słowa zaczynające się na \"k\"\n",
    "\n",
    "Rozwiązanie: `k\\w*`\n",
    "\n",
    "Z polskimi znakami: `k[\\wąęółśążźćń]*`"
   ]
  },
  {
   "cell_type": "markdown",
   "id": "4fcd119d-50be-4b2e-a2c6-e4602cfb9b44",
   "metadata": {},
   "source": [
    "#### 6. Znajdź wszystkie słowa kończące się na \"a\"\n",
    "\n",
    "Rozwiązanie: `\\w*a\\b`\n",
    "\n",
    "Z polskimi znakami: `\\b[\\wąęółśążźćń]*a\\b`"
   ]
  },
  {
   "cell_type": "markdown",
   "id": "20b5e31b-ca93-4639-92fa-31fc4d84aed8",
   "metadata": {},
   "source": [
    "#### 7.  Znajdź wszystkie słowa z literą \"z\" w środku\n",
    "\n",
    "Rozwiązanie: `\\w+z\\w+`\n",
    "\n",
    "Z polskimi znakami: `\\b[\\wąęółśążźćń]+z[\\wąęółśążźćń]+\\b`"
   ]
  },
  {
   "cell_type": "markdown",
   "id": "0765d3dc-0e87-4b0a-b6e5-d7d62f819678",
   "metadata": {
    "jp-MarkdownHeadingCollapsed": true
   },
   "source": [
    "#### 8. Znajdź wszystkie słowa składające się tylko z liter (bez cyfr)\n",
    "\n",
    "Rozwiązanie: `\\b[a-zA-Z]+\\b`"
   ]
  },
  {
   "cell_type": "markdown",
   "id": "a583f494-5fa3-4374-a3c5-5d8b7a7f4256",
   "metadata": {},
   "source": [
    "#### 9. Znajdź wszystkie adresy e-mail\n",
    "\n",
    "Rozwiązanie: `[a-zA-Z0-9._%+-]+@[a-zA-Z0-9.-]+\\.[a-zA-Z]{2,}`"
   ]
  },
  {
   "cell_type": "markdown",
   "id": "1e5590ff-2c9d-4351-906d-c8a92e08db85",
   "metadata": {},
   "source": [
    "#### 10. Znajdź wszystkie adresy IP w tekście (jeśli istnieją)\n",
    "\n",
    "Rozwiązanie: `\\b\\d{1,3}\\.\\d{1,3}\\.\\d{1,3}\\.\\d{1,3}\\b`"
   ]
  },
  {
   "cell_type": "markdown",
   "id": "c9109459-d7c7-4583-b899-130f1ad73f3e",
   "metadata": {},
   "source": [
    "#### 11. Znajdź wszystkie ceny w formacie liczbowym (z kropką jako separatorem dziesiętnym)\n",
    "\n",
    "Rozwiązanie: `\\b\\d+\\.\\d{2}\\b`"
   ]
  },
  {
   "cell_type": "markdown",
   "id": "6c2b7f59-63a6-43b4-9e3a-05e825372007",
   "metadata": {},
   "source": [
    "#### 12. Znajdź wszystkie numery telefonów w formacie XXX-XXX-XXX\n",
    "\n",
    "Rozwiązanie: `\\b\\d{3}-\\d{3}-\\d{3}\\b`"
   ]
  },
  {
   "cell_type": "markdown",
   "id": "e5acc2e8-c429-4ca8-b502-f087771add35",
   "metadata": {},
   "source": [
    "#### 13. Znajdź wszystkie słowa zawierające cyfrę\n",
    "\n",
    "Rozwiązanie: `\\b\\w*\\d\\w*\\b`\n",
    "\n",
    "Z polskimi znakami: `\\b[\\wąęółśążźćń]*\\d[\\wąęółśążźćń]*\\b`"
   ]
  },
  {
   "cell_type": "markdown",
   "id": "3e0b4a58-f729-40cc-9a4f-642a7659ccb0",
   "metadata": {},
   "source": [
    "#### 14. Znajdź wszystkie słowa zaczynające się od dużej litery\n",
    "\n",
    "Rozwiązanie: `\\b[A-Z][a-z]*\\b`"
   ]
  },
  {
   "cell_type": "markdown",
   "id": "f41a04fb-a3a1-472a-9123-17177c3285b6",
   "metadata": {},
   "source": [
    "#### 15. Znajdź wszystkie sekwencje znaków zaczynające się od \"Jola\"\n",
    "\n",
    "Rozwiązanie: `Jola\\w*`\n",
    "\n",
    "Z polskimi znakami: `\\bJola[\\wąęółśążźćń]*\\b`"
   ]
  },
  {
   "cell_type": "markdown",
   "id": "4b9da27d-f3bb-48ff-92fd-f70f83d9c502",
   "metadata": {},
   "source": [
    "#### 16. Znajdź wszystkie słowa składające się z co najmniej 5 liter\n",
    "\n",
    "Rozwiązanie: `\\b\\w{5,}\\b`"
   ]
  },
  {
   "cell_type": "markdown",
   "id": "ce0aac63-4520-4065-b4c8-0eb3ab44ad1a",
   "metadata": {},
   "source": [
    "#### 17. Znajdź wszystkie słowa składające się wyłącznie z małych liter\n",
    "\n",
    "Rozwiązanie: `\\b[a-z]+\\b`\n",
    "\n",
    "Z polskimi znakami: `\\b[a-ząęółśążźćń]+\\b`"
   ]
  },
  {
   "cell_type": "markdown",
   "id": "a1d22766-c7db-4b99-bee9-943126bf63a2",
   "metadata": {},
   "source": [
    "#### 18. Znajdź wszystkie słowa, które nie zawierają litery \"a\"\n",
    "\n",
    "Rozwiązanie: `\\b[^a\\s]+\\b` (nie 'a' i nie biały znak)"
   ]
  },
  {
   "cell_type": "markdown",
   "id": "b2041f9f-f648-494d-943d-7a724c7179c7",
   "metadata": {},
   "source": [
    "#### 19. Znajdź wszystkie wystąpienia słów \"kot\" lub \"psy\"\n",
    "\n",
    "Rozwiązanie: `\\bkot\\b|\\bpsy\\b`"
   ]
  }
 ],
 "metadata": {
  "kernelspec": {
   "display_name": "Python 3 (ipykernel)",
   "language": "python",
   "name": "python3"
  },
  "language_info": {
   "codemirror_mode": {
    "name": "ipython",
    "version": 3
   },
   "file_extension": ".py",
   "mimetype": "text/x-python",
   "name": "python",
   "nbconvert_exporter": "python",
   "pygments_lexer": "ipython3",
   "version": "3.12.4"
  }
 },
 "nbformat": 4,
 "nbformat_minor": 5
}
