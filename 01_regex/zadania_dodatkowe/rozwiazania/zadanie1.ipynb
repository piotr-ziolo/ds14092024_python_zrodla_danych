{
 "cells": [
  {
   "cell_type": "markdown",
   "id": "c1dbdc6b-cbc4-429f-bd91-16764233a852",
   "metadata": {},
   "source": [
    "### Ćwiczenie praktyczne I\n",
    "\n",
    "**Cel**: \\\n",
    "Utrwalenie wiedzy poprzez praktyczne zastosowanie podstawowych metaznaków wyrażeń regularnych.\n",
    "\n",
    "**Działania**: \\\n",
    "Zadania rozwiązujemy na platformie [regex101](https://regex101.com/). Przeklej poniższy tekst do pola 'TEST STRING'. Następnie przepisz wyrażenie regularne do pola 'REGULAR EXPRESSION'. Analizuj otrzymywane wyniki. Czy są zgodne z Twoimi oczekiwaniami?"
   ]
  },
  {
   "cell_type": "markdown",
   "id": "895989ab-56a3-44a2-9e6c-2d427cc36b4c",
   "metadata": {},
   "source": [
    "#### Tekst do analizy"
   ]
  },
  {
   "cell_type": "raw",
   "id": "5ed0d7fb-92fb-4aaa-a09d-47e18211e0c4",
   "metadata": {},
   "source": [
    "In a galaxy far, far away, there was a planet named Zog. The inhabitants of Zog, known as Zogians, had a unique way of life. They communicated using light signals, which changed colors depending on their emotions.\n",
    "\n",
    "The year was 3045. Zog was a technologically advanced planet with flying cars, teleportation devices, and cities that floated in the air. The capital city, Zogopolis, was the largest and most impressive. It had a population of over 10 million [Zogians].\n",
    "\n",
    "Zogians had a tradition of celebrating the \"Festival of Lights\" every 5 years. During this festival, the entire planet would be illuminated with vibrant colours, creating a mesmerizing spectacle visible from space.\n",
    "\n",
    "One of the most famous Zogians was Dr. Zenon, a brilliant scientist who invented the quantum light communicator. This device allowed instant communication with any part of the universe. Dr. Zenon's achievements were celebrated by all, and he received numerous awards for his contributions to science.\n",
    "\n",
    "Despite their advanced technology, Zogians lived in harmony with nature. They believed in preserving their environment and used renewable energy sources to power their cities.\n",
    "\n",
    "The Zogian calendar was divided into 13 months, each with 28 days. They had a unique way of marking time, with weeks consisting of 7 days, named: Zonday, Moonday, Starday, Earthday, Windday, Fireday, and Waterday.\n",
    "\n",
    "Zogians wore clothing made from sustainable materials and their fashion was known for its bright colors and intricate designs. They valued art, music, and poetry, often holding grand events to showcase their talents.\n",
    "\n",
    "The \"Festival of Lights\" was just around the corner, and excitement filled the air. Preparations were in full swing as Zogians eagerly anticipated the grand celebration that united their planet in joy and light."
   ]
  },
  {
   "cell_type": "markdown",
   "id": "dcebb4a0-afdd-4659-85b4-83ffe59af467",
   "metadata": {},
   "source": [
    "#### 1. `.` - dowolny znak\n",
    "\n",
    "**Wyrażenie regularne**: `Z.g`\\\n",
    "**Instrukcja**: Wprowadź powyższe wyrażenie regularne na platformie regex101 i sprawdź, czy poprawnie identyfikuje \"Zog\" w podanym tekście."
   ]
  },
  {
   "cell_type": "markdown",
   "id": "dce1df49-2624-431d-93ec-b3ab3f5310cb",
   "metadata": {},
   "source": [
    "#### 2. `[]` - klasa znaków\n",
    "\n",
    "**Wyrażenie regularne**: `[Zz]og` \\\n",
    "**Instrukcja**: Wprowadź powyższe wyrażenie regularne na platformie regex101 i sprawdź, czy poprawnie identyfikuje \"Zog\" i \"zog\" w podanym tekście."
   ]
  },
  {
   "cell_type": "markdown",
   "id": "20ebab08-9f22-44cc-a57c-d88e2eced7a0",
   "metadata": {},
   "source": [
    "#### 3. `[^]` - negacja klasy\n",
    "\n",
    "**Wyrażenie regularne**: `[^a-zA-Z0-9\\s]`\\\n",
    "**Instrukcja**: Wprowadź powyższe wyrażenie regularne na platformie regex101 i sprawdź, czy poprawnie identyfikuje wszystkie znaki niealfanumeryczne w podanym tekście."
   ]
  },
  {
   "cell_type": "markdown",
   "id": "48aa6bff-eb09-4587-8975-5f08ae29ecfa",
   "metadata": {},
   "source": [
    "#### 4. `*` - zero lub więcej wystąpień\n",
    "\n",
    "**Wyrażenie regularne**: `colou*r` \\\n",
    "**Instrukcja**: Wprowadź powyższe wyrażenie regularne na platformie regex101 i sprawdź, czy poprawnie identyfikuje \"color\" i \"colour\" w podanym tekście."
   ]
  },
  {
   "cell_type": "markdown",
   "id": "16fad1e2-9495-4c37-8098-9fd934c26e08",
   "metadata": {},
   "source": [
    "#### 5. `{}` - dokładna liczba wystąpień\n",
    "\n",
    "**Wyrażenie regularne**: `\\d{4}` \\\n",
    "**Instrukcja**: Wprowadź powyższe wyrażenie regularne na platformie regex101 i sprawdź, czy poprawnie identyfikuje wszystkie czterocyfrowe sekwencje w podanym tekście."
   ]
  },
  {
   "cell_type": "markdown",
   "id": "f6a94749-e6f5-4833-a1a0-acd2b6175729",
   "metadata": {},
   "source": [
    "#### 6. `^` - początek linii\n",
    "\n",
    "**Wyrażenie regularne**: `^The` \\\n",
    "**Instrukcja**: Wprowadź powyższe wyrażenie regularne na platformie regex101 i sprawdź, czy poprawnie identyfikuje linie zaczynające się od \"The\" w podanym tekście."
   ]
  },
  {
   "cell_type": "markdown",
   "id": "309f2440-048a-4f29-ba7f-64327d55ad26",
   "metadata": {},
   "source": [
    "#### 7. `$` - koniec linii\n",
    "\n",
    "**Wyrażenie regularne**: `Waterday.$` \\\n",
    "**Instrukcja**: Wprowadź powyższe wyrażenie regularne na platformie regex101 i sprawdź, czy poprawnie identyfikuje linię kończącą się na \"Waterday.\" w podanym tekście."
   ]
  },
  {
   "cell_type": "markdown",
   "id": "97fd2232-89df-47b5-81f1-5347da616d24",
   "metadata": {},
   "source": [
    "#### 8. `+` - jedno lub więcej wystąpień\n",
    "\n",
    "**Wyrażenie regularne**: `\\d+` \\\n",
    "**Instrukcja**: Wprowadź powyższe wyrażenie regularne na platformie regex101 i sprawdź, czy poprawnie identyfikuje wszystkie sekwencje cyfr w podanym tekście."
   ]
  },
  {
   "cell_type": "markdown",
   "id": "0dcf81b8-36a8-4432-bd0a-063bc287fc14",
   "metadata": {},
   "source": [
    "#### 9. `?` - zero lub jedno wystąpienie\n",
    "\n",
    "**Wyrażenie regularne**: `colou?rs` \\\n",
    "**Instrukcja**: Wprowadź powyższe wyrażenie regularne na platformie regex101 i sprawdź, czy poprawnie identyfikuje \"colors\" i \"colours\" w podanym tekście."
   ]
  },
  {
   "cell_type": "markdown",
   "id": "db261d3f-e771-4b07-92cc-35dbc0b9ba1f",
   "metadata": {},
   "source": [
    "#### 10. `()` - grupy znaków\n",
    "\n",
    "**Wyrażenie regularne**: `(Festival|celebration)` \\\n",
    "**Instrukcja**: Wprowadź powyższe wyrażenie regularne na platformie regex101 i sprawdź, czy poprawnie identyfikuje \"Festival\" i \"celebration\" w podanym tekście."
   ]
  },
  {
   "cell_type": "markdown",
   "id": "f60cce7f-d429-47ca-b3aa-7f9106083fd2",
   "metadata": {},
   "source": [
    "#### 11. `\\` - ucieczka znaków specjalnych\n",
    "\n",
    "**Wyrażenie regularne**: `\\[.*?\\]` \\\n",
    "**Instrukcja**: Wprowadź powyższe wyrażenie regularne na platformie regex101 i sprawdź, czy poprawnie identyfikuje wszystkie wystąpienia znaków w nawiasach kwadratowych."
   ]
  },
  {
   "cell_type": "markdown",
   "id": "b7f6e55b-c7f8-4388-aa37-53f9494b9b54",
   "metadata": {},
   "source": [
    "#### 12. `[-]` - zakres znaków\n",
    "\n",
    "**Wyrażenie regularne**: `[a-zA-Z]` \\\n",
    "**Instrukcja**: Wprowadź powyższe wyrażenie regularne na platformie regex101 i sprawdź, czy poprawnie identyfikuje wszystkie litery w podanym tekście."
   ]
  },
  {
   "cell_type": "markdown",
   "id": "25c1c73c-3b3a-4630-a520-b21dd0eae69f",
   "metadata": {},
   "source": [
    "#### 13. `[]` - klasa znaków\n",
    "\n",
    "**Wyrażenie regularne**: `[aeiou]` \\\n",
    "**Instrukcja**: Wprowadź powyższe wyrażenie regularne na platformie regex101 i sprawdź, czy poprawnie identyfikuje wszystkie samogłoski w podanym tekście."
   ]
  },
  {
   "cell_type": "markdown",
   "id": "92308e2d-cd7e-42a6-b6c8-745c0b7c2905",
   "metadata": {},
   "source": [
    "#### 14. `[^-]` - negacja zakresu\n",
    "\n",
    "**Wyrażenie regularne**: `[^a-zA-Z\\s]` \\\n",
    "**Instrukcja**: Wprowadź powyższe wyrażenie regularne na platformie regex101 i sprawdź, czy poprawnie identyfikuje wszystkie znaki, które nie są literami ani spacjami w podanym tekście."
   ]
  },
  {
   "cell_type": "markdown",
   "id": "d386e035-4fb2-417c-a064-f0b2d3e9365b",
   "metadata": {},
   "source": [
    "#### 15. `[^]` - negacja konkretnych znaków\n",
    "\n",
    "**Wyrażenie regularne**: `[^aeiou]` \\\n",
    "**Instrukcja**: Wprowadź powyższe wyrażenie regularne na platformie regex101 i sprawdź, czy poprawnie identyfikuje wszystkie znaki, które nie są samogłoskami w podanym tekście."
   ]
  },
  {
   "cell_type": "markdown",
   "id": "dc7da295-1b5b-4b59-a686-1649bbc238d3",
   "metadata": {},
   "source": [
    "#### 16. `()` - grupy zagnieżdżone\n",
    "\n",
    "**Wyrażenie regularne**: `((Festival|way) of (marking|Lights|life))`\\\n",
    "**Instrukcja**: Wprowadź powyższe wyrażenie regularne na platformie regex101 i sprawdź, czy poprawnie identyfikuje w tekście wszystkie kombinacje zdefiniowane za pomocą wyrażenia."
   ]
  },
  {
   "cell_type": "markdown",
   "id": "095f6238-cd46-4843-bc34-3556c5cdba71",
   "metadata": {},
   "source": [
    "#### 17. `|` - alternatywne opcje\n",
    "\n",
    "**Wyrażenie regularne**: `planet|Zog` \\\n",
    "**Instrukcja**: Wprowadź powyższe wyrażenie regularne na platformie regex101 i sprawdź, czy poprawnie identyfikuje \"planet\" i \"Zog\" w podanym tekście."
   ]
  },
  {
   "cell_type": "markdown",
   "id": "815c87bc-0323-48b4-a65b-f3f179ae1dd3",
   "metadata": {},
   "source": [
    "#### 18. `{min,max}` - zakres liczby wystąpień\n",
    "\n",
    "**Wyrażenie regularne**: `\\d{1,3}` \\\n",
    "**Instrukcja**: Wprowadź powyższe wyrażenie regularne na platformie regex101 i sprawdź, czy poprawnie identyfikuje wszystkie liczby o długości od 1 do 3 cyfr w podanym tekście."
   ]
  },
  {
   "cell_type": "markdown",
   "id": "ec5ca562-4261-4732-99ce-0a90f4eb5e64",
   "metadata": {},
   "source": [
    "#### 19. `\\b` - granica słowa\n",
    "\n",
    "**Wyrażenie regularne**: `\\bZog\\b` \\\n",
    "**Instrukcja**: Wprowadź powyższe wyrażenie regularne na platformie regex101 i sprawdź, czy poprawnie identyfikuje \"Zog\" jako całe słowo w podanym tekście."
   ]
  },
  {
   "cell_type": "markdown",
   "id": "ece49c17-186a-41d1-9a03-010b9e4a515c",
   "metadata": {},
   "source": [
    "#### 20. `\\d` - cyfry\n",
    "\n",
    "**Wyrażenie regularne**: `\\d`\\\n",
    "**Instrukcja**: Wprowadź powyższe wyrażenie regularne na platformie regex101 i sprawdź, czy poprawnie identyfikuje wszystkie cyfry w podanym tekście."
   ]
  }
 ],
 "metadata": {
  "kernelspec": {
   "display_name": "Python 3 (ipykernel)",
   "language": "python",
   "name": "python3"
  },
  "language_info": {
   "codemirror_mode": {
    "name": "ipython",
    "version": 3
   },
   "file_extension": ".py",
   "mimetype": "text/x-python",
   "name": "python",
   "nbconvert_exporter": "python",
   "pygments_lexer": "ipython3",
   "version": "3.12.4"
  }
 },
 "nbformat": 4,
 "nbformat_minor": 5
}
