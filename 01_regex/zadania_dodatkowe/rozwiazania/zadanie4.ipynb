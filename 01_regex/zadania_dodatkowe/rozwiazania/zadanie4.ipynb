{
 "cells": [
  {
   "cell_type": "markdown",
   "id": "a17a6529-d6e9-4039-8b24-ded7210baa55",
   "metadata": {},
   "source": [
    "### Ćwiczenie praktyczne IV"
   ]
  },
  {
   "cell_type": "markdown",
   "id": "a56696ad-b44b-4e79-a751-7fbbefc2f7a5",
   "metadata": {},
   "source": [
    "**Cel:** \\\n",
    "Plik `tekst.txt` zawiera tekst, na którym będziesz ćwiczyć swoje umiejętności z wyrażeń regularnych (regex) w Pythonie. Zadanie wykorzystuje różne funkcje z biblioteki re, takie jak `re.match`, `re.search`, `re.findall`, `re.finditer`, `re.split`, `re.sub` oraz `re.compile`.\n"
   ]
  },
  {
   "cell_type": "markdown",
   "id": "22f188bf-ef9c-4f9e-b789-3881808fe4c7",
   "metadata": {},
   "source": [
    "#### 0. Zaimportuj bibliotekę `re` oraz wczytaj zawartość pliku `tekst.txt` do zmiennej `text`"
   ]
  },
  {
   "cell_type": "code",
   "execution_count": 3,
   "id": "b00c07fc-8c10-402d-831a-55b8361a1090",
   "metadata": {},
   "outputs": [
    {
     "name": "stdout",
     "output_type": "stream",
     "text": [
      "Data science is an interdisciplinary field that uses scientific methods, processes, algorithms and systems to extract knowledge and insights from structured and unstructured data. Python is widely used in data science for data analysis, machine learning, and artificial intelligence.\n",
      "\n",
      "In 2023, the global data science market size was valued at USD 3.93 billion and is expected to expand at a compound annual growth rate (CAGR) of 26.9% from 2024 to 2030. Email: john.doe@example.com\n",
      "\n",
      "Python's simple syntax makes it easy to learn and use, while its powerful libraries and frameworks make it ideal for complex data analysis. (123) 456-7890\n",
      "\n",
      "Key concepts in data science include statistics, data mining, machine learning, and data visualization. The Python language offers numerous libraries such as NumPy, pandas, and Matplotlib that make these tasks easier.\n",
      "\n",
      "For more information, visit our website: https://www.datascience.com. You can also contact us at info@datascience.com.\n",
      "\n",
      "08-06-2024 Warsaw\n",
      "\n"
     ]
    }
   ],
   "source": [
    "import re\n",
    "\n",
    "with open('tekst.txt', 'r') as f:\n",
    "    text = f.read()\n",
    "\n",
    "print(text)"
   ]
  },
  {
   "cell_type": "markdown",
   "id": "b2257863-5c41-40a3-9a3d-1bcbfc2171a3",
   "metadata": {},
   "source": [
    "#### 1. Sprawdź, czy tekst zaczyna się od słowa \"Data\" (`re.match`)"
   ]
  },
  {
   "cell_type": "code",
   "execution_count": 4,
   "id": "fec55e0e-45f4-48a9-b11f-99601887a873",
   "metadata": {},
   "outputs": [
    {
     "name": "stdout",
     "output_type": "stream",
     "text": [
      "<re.Match object; span=(0, 4), match='Data'>\n"
     ]
    }
   ],
   "source": [
    "pattern = r'Data'\n",
    "result = re.match(pattern, text)\n",
    "print(result)"
   ]
  },
  {
   "cell_type": "markdown",
   "id": "29033e9d-41a0-4491-9b6b-1d35d2ac48a0",
   "metadata": {},
   "source": [
    "#### 2. Sprawdź, czy tekst zaczyna się od cyfry (`re.match`)"
   ]
  },
  {
   "cell_type": "code",
   "execution_count": 5,
   "id": "94c20dbf-2b96-49be-bf5a-c48ae2d33ec6",
   "metadata": {},
   "outputs": [
    {
     "name": "stdout",
     "output_type": "stream",
     "text": [
      "None\n"
     ]
    }
   ],
   "source": [
    "pattern = r'\\d'\n",
    "result = re.match(pattern, text)\n",
    "print(result)"
   ]
  },
  {
   "cell_type": "markdown",
   "id": "a22d5f44-d19c-4a3c-b630-be1cf558b49d",
   "metadata": {},
   "source": [
    "#### 3. Znajdź pierwsze wystąpienie liczby w tekście (`re.search`)"
   ]
  },
  {
   "cell_type": "code",
   "execution_count": 6,
   "id": "796dea2c-b94d-4dac-9579-efe9e829367d",
   "metadata": {},
   "outputs": [
    {
     "name": "stdout",
     "output_type": "stream",
     "text": [
      "<re.Match object; span=(288, 292), match='2023'>\n"
     ]
    }
   ],
   "source": [
    "pattern = r'\\d+'\n",
    "result = re.search(pattern, text)\n",
    "print(result)"
   ]
  },
  {
   "cell_type": "markdown",
   "id": "15c7a01b-60f6-4027-98a8-eccdbf9e5a65",
   "metadata": {},
   "source": [
    "#### 4. Znajdź pierwsze wystąpienie słowa, które zaczyna się na \"P\" (`re.search`)"
   ]
  },
  {
   "cell_type": "code",
   "execution_count": 7,
   "id": "2eb64db9-f5f6-481e-bf0b-9c91dae3cb4e",
   "metadata": {},
   "outputs": [
    {
     "name": "stdout",
     "output_type": "stream",
     "text": [
      "<re.Match object; span=(180, 186), match='Python'>\n"
     ]
    }
   ],
   "source": [
    "pattern = r'\\bP\\w+'\n",
    "result = re.search(pattern, text)\n",
    "print(result)"
   ]
  },
  {
   "cell_type": "markdown",
   "id": "5a7b1c6f-87da-49d2-8e87-2e8d0e794a39",
   "metadata": {},
   "source": [
    "#### 5. Znajdź wszystkie liczby w tekście (`re.findall`)"
   ]
  },
  {
   "cell_type": "code",
   "execution_count": 8,
   "id": "9c041caa-6a40-42f5-a717-4e64a8a831d5",
   "metadata": {},
   "outputs": [
    {
     "name": "stdout",
     "output_type": "stream",
     "text": [
      "['2023', '3', '93', '26', '9', '2024', '2030', '123', '456', '7890', '08', '06', '2024']\n"
     ]
    }
   ],
   "source": [
    "pattern = r'\\d+'\n",
    "result = re.findall(pattern, text)\n",
    "print(result)"
   ]
  },
  {
   "cell_type": "markdown",
   "id": "9ba45cf0-7a9f-4c0b-b58b-37da4d757443",
   "metadata": {},
   "source": [
    "#### 6. Znajdź wszystkie słowa, które zaczynają się na \"D\" (`re.findall`)"
   ]
  },
  {
   "cell_type": "code",
   "execution_count": 9,
   "id": "3d5ebc27-4349-401f-a922-c71fac727803",
   "metadata": {},
   "outputs": [
    {
     "name": "stdout",
     "output_type": "stream",
     "text": [
      "['Data']\n"
     ]
    }
   ],
   "source": [
    "pattern = r'\\bD\\w+'\n",
    "result = re.findall(pattern, text)\n",
    "print(result)"
   ]
  },
  {
   "cell_type": "markdown",
   "id": "9ee8b6a4-45e6-4832-a75e-d9ee7cf6d932",
   "metadata": {},
   "source": [
    "#### 7. Znajdź wszystkie liczby i zwróć ich pozycje (indeks początku i końca) w tekście (`re.finditer`)"
   ]
  },
  {
   "cell_type": "code",
   "execution_count": 11,
   "id": "168cb881-0c33-44d4-b049-c6bfa0b1e2fb",
   "metadata": {},
   "outputs": [
    {
     "name": "stdout",
     "output_type": "stream",
     "text": [
      "(288, 292)\n",
      "(348, 349)\n",
      "(350, 352)\n",
      "(430, 432)\n",
      "(433, 434)\n",
      "(441, 445)\n",
      "(449, 453)\n",
      "(625, 628)\n",
      "(630, 633)\n",
      "(634, 638)\n"
     ]
    }
   ],
   "source": [
    "pattern = r'\\d+'\n",
    "results = re.finditer(pattern, text)\n",
    "for result in results:\n",
    "    print(result.span())"
   ]
  },
  {
   "cell_type": "markdown",
   "id": "53e1e82c-9507-4596-b910-4ca0c6f423be",
   "metadata": {},
   "source": [
    "#### 8. Znajdź wszystkie słowa, które zaczynają się na \"P\" i zwróć ich pozycje (indeks początku i końca) w tekście (`re.finditer`)"
   ]
  },
  {
   "cell_type": "code",
   "execution_count": 10,
   "id": "58e5bc68-db8c-46d9-9ceb-af8535e3ccdb",
   "metadata": {},
   "outputs": [
    {
     "name": "stdout",
     "output_type": "stream",
     "text": [
      "(180, 186)\n",
      "(484, 490)\n",
      "(748, 754)\n"
     ]
    }
   ],
   "source": [
    "pattern = r'\\bP\\w+'\n",
    "results = re.finditer(pattern, text)\n",
    "for result in results:\n",
    "    print(result.span())"
   ]
  },
  {
   "cell_type": "markdown",
   "id": "d44adc14-97c8-4aa7-b67b-08a07eba3cdc",
   "metadata": {},
   "source": [
    "#### 9. Podziel tekst na zdania (`re.split`)"
   ]
  },
  {
   "cell_type": "code",
   "execution_count": 14,
   "id": "94b1ef70-ab0a-44cd-baae-bb1fefdf2c41",
   "metadata": {},
   "outputs": [
    {
     "name": "stdout",
     "output_type": "stream",
     "text": [
      "['Data science is an interdisciplinary field that uses scientific methods, processes, algorithms and systems to extract knowledge and insights from structured and unstructured data. Python is widely used in data science for data analysis, machine learning, and artificial intelligence.\\n\\nIn 2023, the global data science market size was valued at USD 3', '93 billion and is expected to expand at a compound annual growth rate (CAGR) of 26', '9% from 2024 to 2030. Email: john', 'doe@example', \"com\\n\\nPython's simple syntax makes it easy to learn and use, while its powerful libraries and frameworks make it ideal for complex data analysis. (123) 456-7890\\n\\nKey concepts in data science include statistics, data mining, machine learning, and data visualization. The Python language offers numerous libraries such as NumPy, pandas, and Matplotlib that make these tasks easier.\\n\\nFor more information, visit our website: https://www\", 'datascience', 'com. You can also contact us at info@datascience', 'com.\\n\\n08-06-2024 Warsaw\\n']\n"
     ]
    }
   ],
   "source": [
    "# rozwiązanie na poziomie podstawowym\n",
    "pattern = r'\\.\\b'\n",
    "\n",
    "# rozwiązanie na poziomie zaawansowanym\n",
    "# pattern = r'(?<!\\w\\.\\w.)(?<![A-Z][a-z]\\.)(?<=\\.|\\?)\\s'  # dzielimy po znaku białym nie występującym po (i tutaj dwa warunki)\n",
    "# a występującym po (i tutaj jeden warunek). \n",
    "\n",
    "result = re.split(pattern, text)\n",
    "print(result)"
   ]
  },
  {
   "cell_type": "markdown",
   "id": "91228ada-0253-4e06-b412-1d853f5f376e",
   "metadata": {},
   "source": [
    "Omówienie rozwiązania z gwiazdką (poziom zaawansowany)"
   ]
  },
  {
   "cell_type": "markdown",
   "id": "5a647f5c-91fc-48f4-9863-278e9cc87419",
   "metadata": {},
   "source": [
    "1. `(?<!\\w\\.\\w.)`:\n",
    "\n",
    "- `(?<!)` to tzw. negatywne dopasowanie wsteczne (negative lookbehind).\n",
    "- `\\w\\.\\w.` oznacza sekwencję, gdzie znak słowny (\\w) jest przed kropką (.), a następnie dowolny inny znak słowny (\\w).\n",
    "- Całość `(?<!\\w\\.\\w.)` oznacza, że nie chcemy dopasowywać, jeśli przed kropką znajduje się wzorzec w stylu \"a.b.c\". Jest to używane, aby uniknąć podziału przy kropkach, które mogą być częścią skrótów lub adresów e-mail.\n",
    "\n",
    "2. `(?<![A-Z][a-z]\\.)`:\n",
    "\n",
    "- Podobnie, `(?<!)` to negatywne dopasowanie wsteczne.\n",
    "- `[A-Z][a-z]\\.` oznacza sekwencję z wielką literą, małą literą i kropką.\n",
    "- Całość `(?<![A-Z][a-z]\\.)` oznacza, że nie chcemy dopasowywać, jeśli przed kropką znajduje się skrót złożony z wielkiej litery, małej litery i kropki, np. \"Mr.\" lub \"Dr.\".\n",
    "\n",
    "3. `(?<=\\.|\\?)\\s`:\n",
    "\n",
    "- `(?<=)` to pozytywne dopasowanie wsteczne (positive lookbehind).\n",
    "- `(\\.|\\?)` oznacza kropkę `(.)` lub znak zapytania `(\\?)`.\n",
    "- `\\s` oznacza dowolny znak biały (np. spację, tabulator).\n",
    "- Całość `(?<=\\.|\\?)\\s` oznacza, że chcemy dopasować biały znak, która znajduje się bezpośrednio po kropce lub znaku zapytania.\n",
    "\n",
    "No i to jest definicja naszego separatora (po czymś takim robiimy split). Czyli separatorem jest znak biały (`\\s`), który **nie następuje** po 1 i 2, a **następuje** po 3."
   ]
  },
  {
   "cell_type": "markdown",
   "id": "2856b8d6-243d-40d0-9c2e-5bdb2211e8f5",
   "metadata": {},
   "source": [
    "#### 10. Podziel tekst na części przy każdej liczbie (`re.split`)"
   ]
  },
  {
   "cell_type": "code",
   "execution_count": 15,
   "id": "e7364c0d-8c25-40cd-9606-510ca8439ad5",
   "metadata": {},
   "outputs": [
    {
     "name": "stdout",
     "output_type": "stream",
     "text": [
      "['Data science is an interdisciplinary field that uses scientific methods, processes, algorithms and systems to extract knowledge and insights from structured and unstructured data. Python is widely used in data science for data analysis, machine learning, and artificial intelligence.\\n\\nIn ', ', the global data science market size was valued at USD ', '.', ' billion and is expected to expand at a compound annual growth rate (CAGR) of ', '.', '% from ', ' to ', \". Email: john.doe@example.com\\n\\nPython's simple syntax makes it easy to learn and use, while its powerful libraries and frameworks make it ideal for complex data analysis. (\", ') ', '-', '\\n\\nKey concepts in data science include statistics, data mining, machine learning, and data visualization. The Python language offers numerous libraries such as NumPy, pandas, and Matplotlib that make these tasks easier.\\n\\nFor more information, visit our website: https://www.datascience.com. You can also contact us at info@datascience.com.\\n\\n', '-', '-', ' Warsaw\\n']\n"
     ]
    }
   ],
   "source": [
    "pattern = r'\\d+'\n",
    "result = re.split(pattern, text)\n",
    "print(result)"
   ]
  },
  {
   "cell_type": "markdown",
   "id": "b4ef8d20-041c-4a84-b711-4b9e4d4e0b55",
   "metadata": {},
   "source": [
    "#### 11. Zamień wszystkie cyfry na znak \"#\" (`re.sub`)"
   ]
  },
  {
   "cell_type": "code",
   "execution_count": 16,
   "id": "331f68ee-0f1b-4e93-944a-2bc34906c709",
   "metadata": {},
   "outputs": [
    {
     "name": "stdout",
     "output_type": "stream",
     "text": [
      "Data science is an interdisciplinary field that uses scientific methods, processes, algorithms and systems to extract knowledge and insights from structured and unstructured data. Python is widely used in data science for data analysis, machine learning, and artificial intelligence.\n",
      "\n",
      "In ####, the global data science market size was valued at USD #.## billion and is expected to expand at a compound annual growth rate (CAGR) of ##.#% from #### to ####. Email: john.doe@example.com\n",
      "\n",
      "Python's simple syntax makes it easy to learn and use, while its powerful libraries and frameworks make it ideal for complex data analysis. (###) ###-####\n",
      "\n",
      "Key concepts in data science include statistics, data mining, machine learning, and data visualization. The Python language offers numerous libraries such as NumPy, pandas, and Matplotlib that make these tasks easier.\n",
      "\n",
      "For more information, visit our website: https://www.datascience.com. You can also contact us at info@datascience.com.\n",
      "\n",
      "##-##-#### Warsaw\n",
      "\n"
     ]
    }
   ],
   "source": [
    "pattern = r'\\d'\n",
    "result = re.sub(pattern, '#', text)\n",
    "print(result)"
   ]
  },
  {
   "cell_type": "markdown",
   "id": "44c7b81c-5665-44e6-84e9-0e0c243086d6",
   "metadata": {},
   "source": [
    "#### 12. Zamień wszystkie wystąpienia słowa \"data\" na \"informacja\" (`re.sub`)"
   ]
  },
  {
   "cell_type": "code",
   "execution_count": 17,
   "id": "33353e2d-a103-416b-9ca4-685d33bb58ca",
   "metadata": {},
   "outputs": [
    {
     "name": "stdout",
     "output_type": "stream",
     "text": [
      "informacja science is an interdisciplinary field that uses scientific methods, processes, algorithms and systems to extract knowledge and insights from structured and unstructured informacja. Python is widely used in informacja science for informacja analysis, machine learning, and artificial intelligence.\n",
      "\n",
      "In 2023, the global informacja science market size was valued at USD 3.93 billion and is expected to expand at a compound annual growth rate (CAGR) of 26.9% from 2024 to 2030. Email: john.doe@example.com\n",
      "\n",
      "Python's simple syntax makes it easy to learn and use, while its powerful libraries and frameworks make it ideal for complex informacja analysis. (123) 456-7890\n",
      "\n",
      "Key concepts in informacja science include statistics, informacja mining, machine learning, and informacja visualization. The Python language offers numerous libraries such as NumPy, pandas, and Matplotlib that make these tasks easier.\n",
      "\n",
      "For more information, visit our website: https://www.informacjascience.com. You can also contact us at info@informacjascience.com.\n",
      "\n",
      "08-06-2024 Warsaw\n",
      "\n"
     ]
    }
   ],
   "source": [
    "pattern = r'data'\n",
    "result = re.sub(pattern, 'informacja', text, flags=re.IGNORECASE)\n",
    "print(result)"
   ]
  },
  {
   "cell_type": "markdown",
   "id": "1e5fa489-c5c9-4a1b-b170-8b23b950baf4",
   "metadata": {},
   "source": [
    "#### 13. Skompiluj wyrażenie regularne do znajdowania adresów e-mail (`re.compile`)"
   ]
  },
  {
   "cell_type": "code",
   "execution_count": 18,
   "id": "4749b6b8-8bed-423d-95b5-05739fe239c0",
   "metadata": {},
   "outputs": [
    {
     "name": "stdout",
     "output_type": "stream",
     "text": [
      "['john.doe@example.com', 'info@datascience.com.']\n"
     ]
    }
   ],
   "source": [
    "pattern = r'[a-zA-Z0-9_.+-]+@[a-zA-Z0-9-]+\\.[a-zA-Z0-9-.]+'\n",
    "email_pattern = re.compile(pattern)\n",
    "\n",
    "# przykład użycia skompilowanego wzorca (metoda findall)\n",
    "result = email_pattern.findall(text)\n",
    "print(result)"
   ]
  },
  {
   "cell_type": "markdown",
   "id": "f34884b9-5a0e-4769-a864-35de5de15de7",
   "metadata": {},
   "source": [
    "#### 14. Sprawdź, czy tekst zaczyna się od litery \"T\" (`re.match`)"
   ]
  },
  {
   "cell_type": "code",
   "execution_count": 19,
   "id": "ba0b2e42-4df7-4da2-b7b8-52e7b970e633",
   "metadata": {},
   "outputs": [
    {
     "name": "stdout",
     "output_type": "stream",
     "text": [
      "None\n"
     ]
    }
   ],
   "source": [
    "pattern = r'T'\n",
    "result = re.match(pattern, text)\n",
    "print(result)"
   ]
  },
  {
   "cell_type": "markdown",
   "id": "b9ea4f95-953f-4ae0-924b-c1ec2d98a2a6",
   "metadata": {},
   "source": [
    "#### 15. Znajdź pierwsze wystąpienie ciągu \"science\" (`re.search`)"
   ]
  },
  {
   "cell_type": "code",
   "execution_count": 20,
   "id": "da5a5243-326e-4aad-a47d-7c63bee8b878",
   "metadata": {},
   "outputs": [
    {
     "name": "stdout",
     "output_type": "stream",
     "text": [
      "<re.Match object; span=(5, 12), match='science'>\n"
     ]
    }
   ],
   "source": [
    "pattern = r'science'\n",
    "result = re.search(pattern, text)\n",
    "print(result)"
   ]
  },
  {
   "cell_type": "markdown",
   "id": "0cc32080-1d7b-4140-9221-71727693094d",
   "metadata": {},
   "source": [
    "#### 16. Znajdź wszystkie słowa, które kończą się na \"ing\" (`re.findall`)"
   ]
  },
  {
   "cell_type": "code",
   "execution_count": 21,
   "id": "255ea2be-8e0a-4ab1-83b5-0a4dce0a846e",
   "metadata": {},
   "outputs": [
    {
     "name": "stdout",
     "output_type": "stream",
     "text": [
      "['learning', 'mining', 'learning']\n"
     ]
    }
   ],
   "source": [
    "pattern = r'\\b\\w+ing\\b'\n",
    "result = re.findall(pattern, text)\n",
    "print(result)"
   ]
  },
  {
   "cell_type": "markdown",
   "id": "eb08c28e-176d-49f5-9d3b-90e9753f9381",
   "metadata": {},
   "source": [
    "#### 17. Znajdź wszystkie wystąpienia wyrazu \"Python\" i zwróć ich pozycje w tekście (`re.finditer`)"
   ]
  },
  {
   "cell_type": "code",
   "execution_count": 22,
   "id": "892d2c68-17f8-489b-ab4c-3cdf2d20ecd5",
   "metadata": {},
   "outputs": [
    {
     "name": "stdout",
     "output_type": "stream",
     "text": [
      "(180, 186)\n",
      "(484, 490)\n",
      "(748, 754)\n"
     ]
    }
   ],
   "source": [
    "pattern = r'Python'\n",
    "results = re.finditer(pattern, text)\n",
    "for result in results:\n",
    "    print(result.span())"
   ]
  },
  {
   "cell_type": "markdown",
   "id": "1d9103e3-b8a3-465c-b24d-382cdee9f306",
   "metadata": {},
   "source": [
    "#### 18. Podziel tekst na słowa (`re.split`)"
   ]
  },
  {
   "cell_type": "code",
   "execution_count": 23,
   "id": "600d56a8-700f-4ab2-8d56-d7a3f0848462",
   "metadata": {},
   "outputs": [
    {
     "name": "stdout",
     "output_type": "stream",
     "text": [
      "['Data', 'science', 'is', 'an', 'interdisciplinary', 'field', 'that', 'uses', 'scientific', 'methods,', 'processes,', 'algorithms', 'and', 'systems', 'to', 'extract', 'knowledge', 'and', 'insights', 'from', 'structured', 'and', 'unstructured', 'data.', 'Python', 'is', 'widely', 'used', 'in', 'data', 'science', 'for', 'data', 'analysis,', 'machine', 'learning,', 'and', 'artificial', 'intelligence.', 'In', '2023,', 'the', 'global', 'data', 'science', 'market', 'size', 'was', 'valued', 'at', 'USD', '3.93', 'billion', 'and', 'is', 'expected', 'to', 'expand', 'at', 'a', 'compound', 'annual', 'growth', 'rate', '(CAGR)', 'of', '26.9%', 'from', '2024', 'to', '2030.', 'Email:', 'john.doe@example.com', \"Python's\", 'simple', 'syntax', 'makes', 'it', 'easy', 'to', 'learn', 'and', 'use,', 'while', 'its', 'powerful', 'libraries', 'and', 'frameworks', 'make', 'it', 'ideal', 'for', 'complex', 'data', 'analysis.', '(123)', '456-7890', 'Key', 'concepts', 'in', 'data', 'science', 'include', 'statistics,', 'data', 'mining,', 'machine', 'learning,', 'and', 'data', 'visualization.', 'The', 'Python', 'language', 'offers', 'numerous', 'libraries', 'such', 'as', 'NumPy,', 'pandas,', 'and', 'Matplotlib', 'that', 'make', 'these', 'tasks', 'easier.', 'For', 'more', 'information,', 'visit', 'our', 'website:', 'https://www.datascience.com.', 'You', 'can', 'also', 'contact', 'us', 'at', 'info@datascience.com.', '08-06-2024', 'Warsaw', '']\n"
     ]
    }
   ],
   "source": [
    "pattern = r'\\s+'\n",
    "result = re.split(pattern, text)\n",
    "print(result)"
   ]
  },
  {
   "cell_type": "markdown",
   "id": "dad7670e-50fa-4a69-8533-0f4f24df7430",
   "metadata": {},
   "source": [
    "#### 19. Zamień wszystkie spacje na myślniki \"-\" (`re.sub`)"
   ]
  },
  {
   "cell_type": "code",
   "execution_count": 24,
   "id": "fbfb8828-7875-468e-b226-23b45ed49979",
   "metadata": {},
   "outputs": [
    {
     "name": "stdout",
     "output_type": "stream",
     "text": [
      "Data-science-is-an-interdisciplinary-field-that-uses-scientific-methods,-processes,-algorithms-and-systems-to-extract-knowledge-and-insights-from-structured-and-unstructured-data.-Python-is-widely-used-in-data-science-for-data-analysis,-machine-learning,-and-artificial-intelligence.\n",
      "\n",
      "In-2023,-the-global-data-science-market-size-was-valued-at-USD-3.93-billion-and-is-expected-to-expand-at-a-compound-annual-growth-rate-(CAGR)-of-26.9%-from-2024-to-2030.-Email:-john.doe@example.com\n",
      "\n",
      "Python's-simple-syntax-makes-it-easy-to-learn-and-use,-while-its-powerful-libraries-and-frameworks-make-it-ideal-for-complex-data-analysis.-(123)-456-7890\n",
      "\n",
      "Key-concepts-in-data-science-include-statistics,-data-mining,-machine-learning,-and-data-visualization.-The-Python-language-offers-numerous-libraries-such-as-NumPy,-pandas,-and-Matplotlib-that-make-these-tasks-easier.\n",
      "\n",
      "For-more-information,-visit-our-website:-https://www.datascience.com.-You-can-also-contact-us-at-info@datascience.com.\n",
      "\n",
      "08-06-2024-Warsaw\n",
      "\n"
     ]
    }
   ],
   "source": [
    "pattern = r' '\n",
    "result = re.sub(pattern, '-', text)\n",
    "print(result)"
   ]
  },
  {
   "cell_type": "markdown",
   "id": "ea9e74b7-b3e3-4eb3-b18c-8cd1cbb8a315",
   "metadata": {},
   "source": [
    "#### 20. Skompiluj wyrażenie regularne do znajdowania dat w formacie \"DD-MM-YYYY\" (`re.compile`)"
   ]
  },
  {
   "cell_type": "code",
   "execution_count": 29,
   "id": "654b0828-4a6c-461e-ae91-6baeb62856ee",
   "metadata": {},
   "outputs": [
    {
     "name": "stdout",
     "output_type": "stream",
     "text": [
      "['08-06-2024']\n"
     ]
    }
   ],
   "source": [
    "pattern = r'\\b\\d{2}-\\d{2}-\\d{4}\\b'   # dokładniejsze dopasowaniu powinno uwzględnić, że DD nie może być większe niż 31,\n",
    "# a MM nie może być większe niż 12. Co więcej dla niektórych miesięcy DD nie powinno być większe niż 30 (29 dla MM=02), \n",
    "# a w wybranych  latach dla MM=02 DD nie powinno być większe niż 28. Wygenerowałoby to bardzo skompliowany regex, więc \n",
    "# zadowalamy się jego uproszczoną postacią.\n",
    "date_pattern = re.compile(pattern)\n",
    "result = date_pattern.findall(text)\n",
    "print(result)"
   ]
  },
  {
   "cell_type": "markdown",
   "id": "1e66a862-877d-4ce2-aa25-cf2b77b42700",
   "metadata": {},
   "source": [
    "#### 21. Sprawdź, czy tekst zaczyna się od słowa \"Python\" (`re.match`)"
   ]
  },
  {
   "cell_type": "code",
   "execution_count": 30,
   "id": "2b408829-bb0b-42aa-a324-1e8db1912650",
   "metadata": {},
   "outputs": [
    {
     "name": "stdout",
     "output_type": "stream",
     "text": [
      "None\n"
     ]
    }
   ],
   "source": [
    "pattern = r'Python'\n",
    "result = re.match(pattern, text)\n",
    "print(result)"
   ]
  },
  {
   "cell_type": "markdown",
   "id": "97b23b8f-2553-4d74-ba8b-e2f1ef643a41",
   "metadata": {},
   "source": [
    "#### 22. Znajdź pierwsze wystąpienie liczby trzycyfrowej (`re.search`)"
   ]
  },
  {
   "cell_type": "code",
   "execution_count": 31,
   "id": "7c154156-f74d-4b79-9e0e-bacfe323610b",
   "metadata": {},
   "outputs": [
    {
     "name": "stdout",
     "output_type": "stream",
     "text": [
      "<re.Match object; span=(625, 628), match='123'>\n"
     ]
    }
   ],
   "source": [
    "pattern = r'\\b\\d{3}\\b'\n",
    "result = re.search(pattern, text)\n",
    "print(result)"
   ]
  },
  {
   "cell_type": "markdown",
   "id": "f4e12e9f-e807-4d7c-8393-0e6c7b8dbc42",
   "metadata": {},
   "source": [
    "#### 23. Znajdź wszystkie słowa, które zawierają literę \"e\" (`re.findall`)"
   ]
  },
  {
   "cell_type": "code",
   "execution_count": 32,
   "id": "59383687-c28d-41b1-a24e-ce5afd4fbb7c",
   "metadata": {},
   "outputs": [
    {
     "name": "stdout",
     "output_type": "stream",
     "text": [
      "['science', 'interdisciplinary', 'field', 'uses', 'scientific', 'methods', 'processes', 'systems', 'extract', 'knowledge', 'structured', 'unstructured', 'widely', 'used', 'science', 'machine', 'learning', 'intelligence', 'the', 'science', 'market', 'size', 'valued', 'expected', 'expand', 'rate', 'doe', 'example', 'simple', 'makes', 'easy', 'learn', 'use', 'while', 'powerful', 'libraries', 'frameworks', 'make', 'ideal', 'complex', 'Key', 'concepts', 'science', 'include', 'machine', 'learning', 'The', 'language', 'offers', 'numerous', 'libraries', 'make', 'these', 'easier', 'more', 'website', 'datascience', 'datascience']\n"
     ]
    }
   ],
   "source": [
    "pattern = r'\\w*e\\w*'\n",
    "result = re.findall(pattern, text)\n",
    "print(result)"
   ]
  },
  {
   "cell_type": "markdown",
   "id": "f3bfc893-071a-463b-a2e2-bbc531e60db5",
   "metadata": {},
   "source": [
    "#### 24. Znajdź wszystkie wystąpienia słowa \"data\" i zwróć ich pozycje w tekście (`re.finditer`)"
   ]
  },
  {
   "cell_type": "code",
   "execution_count": 34,
   "id": "989c717c-0ae5-49af-9cea-687a016c0b0c",
   "metadata": {},
   "outputs": [
    {
     "name": "stdout",
     "output_type": "stream",
     "text": [
      "(174, 178)\n",
      "(205, 209)\n",
      "(222, 226)\n",
      "(305, 309)\n",
      "(609, 613)\n",
      "(656, 660)\n",
      "(689, 693)\n",
      "(724, 728)\n",
      "(912, 916)\n",
      "(961, 965)\n"
     ]
    }
   ],
   "source": [
    "pattern = r'data'\n",
    "results = re.finditer(pattern, text)\n",
    "for result in results:\n",
    "    print(result.span())"
   ]
  },
  {
   "cell_type": "markdown",
   "id": "4a26cb27-4e32-4cd2-86ac-598123d1e40b",
   "metadata": {},
   "source": [
    "#### 25. Podziel tekst na części przy każdej kropce \".\" (`re.split`)"
   ]
  },
  {
   "cell_type": "code",
   "execution_count": 35,
   "id": "5dcf773b-cf39-45d1-9bd9-e0056512a9a0",
   "metadata": {},
   "outputs": [
    {
     "name": "stdout",
     "output_type": "stream",
     "text": [
      "['Data science is an interdisciplinary field that uses scientific methods, processes, algorithms and systems to extract knowledge and insights from structured and unstructured data', ' Python is widely used in data science for data analysis, machine learning, and artificial intelligence', '\\n\\nIn 2023, the global data science market size was valued at USD 3', '93 billion and is expected to expand at a compound annual growth rate (CAGR) of 26', '9% from 2024 to 2030', ' Email: john', 'doe@example', \"com\\n\\nPython's simple syntax makes it easy to learn and use, while its powerful libraries and frameworks make it ideal for complex data analysis\", ' (123) 456-7890\\n\\nKey concepts in data science include statistics, data mining, machine learning, and data visualization', ' The Python language offers numerous libraries such as NumPy, pandas, and Matplotlib that make these tasks easier', '\\n\\nFor more information, visit our website: https://www', 'datascience', 'com', ' You can also contact us at info@datascience', 'com', '\\n\\n08-06-2024 Warsaw\\n']\n"
     ]
    }
   ],
   "source": [
    "pattern = r'\\.'\n",
    "result = re.split(pattern, text)\n",
    "print(result)"
   ]
  },
  {
   "cell_type": "markdown",
   "id": "884117e1-a9d9-43c2-9ddc-33ddcf1cd31b",
   "metadata": {},
   "source": [
    "#### 26. Zamień wszystkie małe litery na wielkie litery (`re.sub`)"
   ]
  },
  {
   "cell_type": "code",
   "execution_count": 36,
   "id": "c76c6f76-f371-4e91-a5ce-5a7bd1a0b53a",
   "metadata": {},
   "outputs": [
    {
     "name": "stdout",
     "output_type": "stream",
     "text": [
      "DATA SCIENCE IS AN INTERDISCIPLINARY FIELD THAT USES SCIENTIFIC METHODS, PROCESSES, ALGORITHMS AND SYSTEMS TO EXTRACT KNOWLEDGE AND INSIGHTS FROM STRUCTURED AND UNSTRUCTURED DATA. PYTHON IS WIDELY USED IN DATA SCIENCE FOR DATA ANALYSIS, MACHINE LEARNING, AND ARTIFICIAL INTELLIGENCE.\n",
      "\n",
      "IN 2023, THE GLOBAL DATA SCIENCE MARKET SIZE WAS VALUED AT USD 3.93 BILLION AND IS EXPECTED TO EXPAND AT A COMPOUND ANNUAL GROWTH RATE (CAGR) OF 26.9% FROM 2024 TO 2030. EMAIL: JOHN.DOE@EXAMPLE.COM\n",
      "\n",
      "PYTHON'S SIMPLE SYNTAX MAKES IT EASY TO LEARN AND USE, WHILE ITS POWERFUL LIBRARIES AND FRAMEWORKS MAKE IT IDEAL FOR COMPLEX DATA ANALYSIS. (123) 456-7890\n",
      "\n",
      "KEY CONCEPTS IN DATA SCIENCE INCLUDE STATISTICS, DATA MINING, MACHINE LEARNING, AND DATA VISUALIZATION. THE PYTHON LANGUAGE OFFERS NUMEROUS LIBRARIES SUCH AS NUMPY, PANDAS, AND MATPLOTLIB THAT MAKE THESE TASKS EASIER.\n",
      "\n",
      "FOR MORE INFORMATION, VISIT OUR WEBSITE: HTTPS://WWW.DATASCIENCE.COM. YOU CAN ALSO CONTACT US AT INFO@DATASCIENCE.COM.\n",
      "\n",
      "08-06-2024 WARSAW\n",
      "\n"
     ]
    }
   ],
   "source": [
    "pattern = r'[a-z]'\n",
    "# przykład zaawansowany\n",
    "result = re.sub(pattern, lambda x: x.group(0).upper(), text)\n",
    "print(result)"
   ]
  },
  {
   "cell_type": "markdown",
   "id": "515457a5-2682-4367-9b6c-12898f7caa3b",
   "metadata": {},
   "source": [
    "Jak widać z przykładu, funkcja `sub` jako drugi parametr może przyjmować nie tylko wartość która ma być podstawiona w miejsce dopasowania, ale również funkcje, która przyjmie **obiekt dopasowania** (**Uwaga!** To będzie obiekt klasy `re.Match`), zmodyfikuje dopasowany napis i zwróci zmodyfikowaną postać napisu. Zwrócony napis zostanie podstawiona w miejsce dopasowania. \n",
    "\n",
    "W naszym przykładzie funkcja przyjmuje dopasowanie (pojedynczą literę), wyciąga z obiektu zawartość pierwszej grupy (czyli małą literę) i wywołuje na niej metodę `upper`, a następnie zwraca wynik działania metody (czyli wielką literę). Zwrócony wynik jest podstawiany w miejsce dopasowania."
   ]
  },
  {
   "cell_type": "markdown",
   "id": "319aaaa5-3c70-4431-b6b7-4d3168a90866",
   "metadata": {},
   "source": [
    "#### 27. Skompiluj wyrażenie regularne do znajdowania numerów telefonów w formacie \"(XXX) XXX-XXXX\". Znajdź wszystkie wystąpienia takiego wzorca. (`re.compile`)"
   ]
  },
  {
   "cell_type": "code",
   "execution_count": 37,
   "id": "bb19725a-f1d1-43a8-a6a2-d539ea50d2c9",
   "metadata": {},
   "outputs": [
    {
     "name": "stdout",
     "output_type": "stream",
     "text": [
      "['(123) 456-7890']\n"
     ]
    }
   ],
   "source": [
    "pattern = r'\\(\\d{3}\\) \\d{3}-\\d{4}'\n",
    "phone_pattern = re.compile(pattern)\n",
    "result = phone_pattern.findall(text)\n",
    "print(result)"
   ]
  },
  {
   "cell_type": "markdown",
   "id": "9f150403-10b8-4388-a76e-8481760b0d3e",
   "metadata": {},
   "source": [
    "#### 28. Sprawdź, czy tekst zaczyna się od liczby dwu- lub trzycyfrowej (`re.match`)"
   ]
  },
  {
   "cell_type": "code",
   "execution_count": 38,
   "id": "871f5d21-bd92-4606-ac45-1fe8525ae9b0",
   "metadata": {},
   "outputs": [
    {
     "name": "stdout",
     "output_type": "stream",
     "text": [
      "None\n"
     ]
    }
   ],
   "source": [
    "pattern = r'\\b\\d{2,3}\\b'\n",
    "result = re.match(pattern, text)\n",
    "print(result)"
   ]
  },
  {
   "cell_type": "markdown",
   "id": "747f1623-46fb-4e09-83f3-b35ea9df781c",
   "metadata": {},
   "source": [
    "#### 29. Znajdź pierwsze wystąpienie adresu URL w tekście (`re.search`)"
   ]
  },
  {
   "cell_type": "code",
   "execution_count": 39,
   "id": "e4bdf919-a3ed-4f1c-b754-73fe2fcfc279",
   "metadata": {},
   "outputs": [
    {
     "name": "stdout",
     "output_type": "stream",
     "text": [
      "<re.Match object; span=(900, 928), match='https://www.datascience.com.'>\n"
     ]
    }
   ],
   "source": [
    "pattern = r'https?://[^\\s]+'\n",
    "url_pattern = re.compile(pattern)\n",
    "result = url_pattern.search(text)\n",
    "print(result)"
   ]
  },
  {
   "cell_type": "markdown",
   "id": "c7431b41-ad3c-4b9a-8875-62db58248575",
   "metadata": {},
   "source": [
    "#### 30. Znajdź wszystkie wielkie litery, które są używane jako pojedyncze litery w tekście. (`re.findall`)"
   ]
  },
  {
   "cell_type": "code",
   "execution_count": 40,
   "id": "7572a295-4bbc-4734-bea5-a6701a6c8135",
   "metadata": {},
   "outputs": [
    {
     "name": "stdout",
     "output_type": "stream",
     "text": [
      "[]\n"
     ]
    }
   ],
   "source": [
    "pattern = r'\\b[A-Z]\\b'\n",
    "single_capitals_pattern = re.compile(pattern)\n",
    "result = single_capitals_pattern.findall(text)\n",
    "print(result)"
   ]
  }
 ],
 "metadata": {
  "kernelspec": {
   "display_name": "Python 3 (ipykernel)",
   "language": "python",
   "name": "python3"
  },
  "language_info": {
   "codemirror_mode": {
    "name": "ipython",
    "version": 3
   },
   "file_extension": ".py",
   "mimetype": "text/x-python",
   "name": "python",
   "nbconvert_exporter": "python",
   "pygments_lexer": "ipython3",
   "version": "3.12.4"
  }
 },
 "nbformat": 4,
 "nbformat_minor": 5
}
